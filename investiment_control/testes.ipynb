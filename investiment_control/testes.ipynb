{
 "cells": [
  {
   "cell_type": "code",
   "execution_count": 1,
   "metadata": {},
   "outputs": [],
   "source": [
    "import pandas as pd\n",
    "from pathlib import Path\n",
    "from datetime import date,datetime\n",
    "\n",
    "\n",
    "current_path = Path.cwd()\n",
    "csv_name = \"investimentos_movimentacoes.csv\"\n",
    "raw_data = pd.read_csv(filepath_or_buffer=current_path/csv_name)\n",
    "list_to_pop = [\"Lucro\",\"Imposto\",\"Observação\",\"F sup\",\"Preço médio\",\"Valor total\"]\n",
    "for name in list_to_pop:\n",
    "    raw_data.pop(name)\n",
    "    \n",
    "\n"
   ]
  },
  {
   "cell_type": "code",
   "execution_count": 2,
   "metadata": {},
   "outputs": [],
   "source": [
    "class Portfolio:\n",
    "    def __init__ (self,data_base):\n",
    "        self.data:pd.DataFrame=data_base\n",
    "\n",
    "    def get_values(self,dict_values_to_filter) -> pd.DataFrame:\n",
    "\n",
    "        mask = self.data[\"buy\"]==self.data[\"buy\"]\n",
    "        for column,value in dict_values_to_filter.items():\n",
    "            mask = (self.data[column]==value) & mask\n",
    "        return self.data[mask]"
   ]
  },
  {
   "cell_type": "code",
   "execution_count": 3,
   "metadata": {},
   "outputs": [],
   "source": [
    "data_base = pd.DataFrame()\n",
    "data_base[\"owner\"] = raw_data[\"Banco\"].apply(lambda text: \"Luiz\" if text ==\"Inter\" else \"Luciane\")\n",
    "data_base[\"date\"] = raw_data[\"Data operação\"].apply(lambda date: datetime.strptime(date,\"%d/%m/%Y\"))\n",
    "data_base[\"ticker\"] = raw_data[\"Nome ativo\"]\n",
    "data_base[\"buy\"] = raw_data[\"C/V\"].apply(lambda text: True if text==\"C\" else False)\n",
    "data_base[\"price\"] = raw_data[\"Preço operação\"].apply(lambda price_text: float(''.join(filter(lambda x: x.isdigit() or x in ',', price_text)).replace(\",\",\".\")))\n",
    "data_base[\"amount\"] = raw_data[\"Qnt\"].apply(lambda Qnt: float(Qnt.replace(\",\",\".\")))\n",
    "data_base[\"curency\"] = \"BRL\""
   ]
  },
  {
   "cell_type": "code",
   "execution_count": 5,
   "metadata": {},
   "outputs": [
    {
     "data": {
      "text/plain": [
       "array(['ALZR11', 'LFTS11', 'SLCE3', 'SPXI11', 'Prefixado 2029', 'HGRU11',\n",
       "       'HSML11', 'SUZB3', 'BBAS3', 'BIL', 'IBIT', 'ROMI3', 'HGPO11',\n",
       "       'ITSA4', 'Selic 2029', 'CMIG4', 'GGBR4', 'BBDC4', 'HGLG11',\n",
       "       'BODB11', 'VALE3', 'TRXF11', 'CLIN11', 'CPTI11', 'IPCA+ 2045',\n",
       "       'TRPL4', 'KNSC11', 'KNIP11', 'RBRR11', 'TLT', 'CIEL3', 'ALUG11',\n",
       "       'BITH11', 'SAPR4', 'KORE11', 'HGRE11', 'RBVA11', 'KNCA11', 'PSSA3',\n",
       "       'BTCR11', 'JSRE11', 'CVBI11', 'BCRI11', 'GGRC11', 'HGCR11',\n",
       "       'KNCR11', 'USDB11', 'Selic 2026', 'IPCA+ 2029', 'SHY', 'IVV'],\n",
       "      dtype=object)"
      ]
     },
     "metadata": {},
     "output_type": "display_data"
    }
   ],
   "source": [
    "display(data_base[\"ticker\"].unique())"
   ]
  },
  {
   "cell_type": "code",
   "execution_count": 8,
   "metadata": {},
   "outputs": [
    {
     "ename": "NameError",
     "evalue": "name 'self' is not defined",
     "output_type": "error",
     "traceback": [
      "\u001b[1;31m---------------------------------------------------------------------------\u001b[0m",
      "\u001b[1;31mNameError\u001b[0m                                 Traceback (most recent call last)",
      "Cell \u001b[1;32mIn[8], line 1\u001b[0m\n\u001b[1;32m----> 1\u001b[0m _list_profiles \u001b[38;5;241m=\u001b[39m \u001b[38;5;28;43mself\u001b[39;49m\u001b[38;5;241m.\u001b[39mdata[\u001b[38;5;124m\"\u001b[39m\u001b[38;5;124mowner\u001b[39m\u001b[38;5;124m\"\u001b[39m]\u001b[38;5;241m.\u001b[39munique()\u001b[38;5;241m.\u001b[39mtolist()\n\u001b[0;32m      2\u001b[0m _list_profiles \u001b[38;5;241m=\u001b[39m [\u001b[38;5;124m\"\u001b[39m\u001b[38;5;124mLuiz\u001b[39m\u001b[38;5;124m\"\u001b[39m]\n\u001b[0;32m      4\u001b[0m \u001b[38;5;28;01mfor\u001b[39;00m profile \u001b[38;5;129;01min\u001b[39;00m _list_profiles:\n",
      "\u001b[1;31mNameError\u001b[0m: name 'self' is not defined"
     ]
    }
   ],
   "source": [
    "_list_profiles = self.data[\"owner\"].unique().tolist()\n",
    "_list_profiles = [\"Luiz\"]\n",
    "\n",
    "for profile in _list_profiles:\n",
    "        \n",
    "    _position_dataframe= pd.DataFrame()\n",
    "    _amounts = []\n",
    "    _actual_prices = []\n",
    "   \n",
    "    for ticker in self.get_values({\"owner\":profile})[\"ticker\"].unique():\n",
    "        _amount = (sum(self.get_values({\"owner\":profile,\"ticker\":ticker,\"buy\":True})[\"amount\"]) \n",
    "                 - sum(self.get_values({\"owner\":profile,\"ticker\":ticker,\"buy\":False})[\"amount\"]))  \n",
    "        _position_dataframe.loc[ticker][\"Quantidade\"] = _amount\n",
    "    \n",
    "        # _position_dataframe[\"Valor atual\"][ticker] = _actual_price\n",
    "    display(_position_dataframe)"
   ]
  },
  {
   "cell_type": "code",
   "execution_count": 38,
   "metadata": {},
   "outputs": [
    {
     "data": {
      "text/plain": [
       "array(['ALZR11', 'LFTS11', 'SLCE3', 'SPXI11', 'Prefixado 2029', 'HGRU11',\n",
       "       'HSML11', 'SUZB3', 'BBAS3', 'BIL', 'IBIT', 'ROMI3', 'HGPO11',\n",
       "       'ITSA4', 'Selic 2027', 'CMIG4', 'GGBR4', 'BBDC4', 'HGLG11',\n",
       "       'BODB11', 'VALE3', 'TRXF11', 'CLIN11', 'CPTI11', 'IPCA+ 2045',\n",
       "       'TRPL4', 'KNSC11', 'KNIP11', 'RBRR11', 'TLT', 'CIEL3', 'ALUG11',\n",
       "       'BITH11', 'SAPR4', 'KORE11', 'HGRE11', 'RBVA11', 'KNCA11', 'PSSA3',\n",
       "       'BTCR11', 'JSRE11', 'CVBI11', 'BCRI11', 'GGRC11', 'HGCR11',\n",
       "       'KNCR11', 'USDB11', 'IPCA+ 2029', 'SHY', 'IVV'], dtype=object)"
      ]
     },
     "metadata": {},
     "output_type": "display_data"
    },
    {
     "data": {
      "text/plain": [
       "[{'symbol': 'ALZR11',\n",
       "  'full_name': 'B3:ALZR11',\n",
       "  'description': 'Alianza Trust Renda Imobiliaria FII',\n",
       "  'type': 'Stock',\n",
       "  'ticker': '1059885',\n",
       "  'exchange': 'B3'}]"
      ]
     },
     "metadata": {},
     "output_type": "display_data"
    },
    {
     "data": {
      "text/plain": [
       "[{'symbol': 'LFTS11',\n",
       "  'full_name': 'B3:LFTS11',\n",
       "  'description': 'INVESTO TEVA TESOURO SELIC ETF - FUNDO DE INVESTIMENTO DE ÍNDICE',\n",
       "  'type': 'ETF',\n",
       "  'ticker': '1198214',\n",
       "  'exchange': 'B3'}]"
      ]
     },
     "metadata": {},
     "output_type": "display_data"
    },
    {
     "data": {
      "text/plain": [
       "[{'symbol': 'SLCE3',\n",
       "  'full_name': 'B3:SLCE3',\n",
       "  'description': 'SLC Agricola SA',\n",
       "  'type': 'Stock',\n",
       "  'ticker': '18781',\n",
       "  'exchange': 'B3'}]"
      ]
     },
     "metadata": {},
     "output_type": "display_data"
    },
    {
     "data": {
      "text/plain": [
       "[{'symbol': 'SPXI11',\n",
       "  'full_name': 'B3:SPXI11',\n",
       "  'description': 'It Now S&P500 TRN',\n",
       "  'type': 'ETF',\n",
       "  'ticker': '956434',\n",
       "  'exchange': 'B3'}]"
      ]
     },
     "metadata": {},
     "output_type": "display_data"
    },
    {
     "data": {
      "text/plain": [
       "[{'symbol': 'LTN010129=STNC',\n",
       "  'full_name': 'B3:LTN010129=STNC',\n",
       "  'description': 'Tesouro Prefixado 0 01-Jan-2029',\n",
       "  'type': 'Bond Yield',\n",
       "  'ticker': '1198676',\n",
       "  'exchange': 'B3'}]"
      ]
     },
     "metadata": {},
     "output_type": "display_data"
    },
    {
     "data": {
      "text/plain": [
       "[{'symbol': 'HGRU11',\n",
       "  'full_name': 'B3:HGRU11',\n",
       "  'description': 'CSHG RENDA URBANA FII',\n",
       "  'type': 'Stock',\n",
       "  'ticker': '1097720',\n",
       "  'exchange': 'B3'}]"
      ]
     },
     "metadata": {},
     "output_type": "display_data"
    },
    {
     "data": {
      "text/plain": [
       "[{'symbol': 'HSML11',\n",
       "  'full_name': 'B3:HSML11',\n",
       "  'description': 'HSI Malls Fundo de Investimento Imobiliario',\n",
       "  'type': 'Stock',\n",
       "  'ticker': '1152293',\n",
       "  'exchange': 'B3'}]"
      ]
     },
     "metadata": {},
     "output_type": "display_data"
    },
    {
     "data": {
      "text/plain": [
       "[{'symbol': 'SUZB3',\n",
       "  'full_name': 'B3:SUZB3',\n",
       "  'description': 'Suzano Papel e Celulose SA',\n",
       "  'type': 'Stock',\n",
       "  'ticker': '1055002',\n",
       "  'exchange': 'B3'}]"
      ]
     },
     "metadata": {},
     "output_type": "display_data"
    },
    {
     "data": {
      "text/plain": [
       "[{'symbol': 'BBAS3',\n",
       "  'full_name': 'B3:BBAS3',\n",
       "  'description': 'Banco do Brasil SA',\n",
       "  'type': 'Stock',\n",
       "  'ticker': '18604',\n",
       "  'exchange': 'B3'},\n",
       " {'symbol': 'BBAS3m',\n",
       "  'full_name': 'Buenos Aires:BBAS3m',\n",
       "  'description': 'Banco do Brasil SA DRC',\n",
       "  'type': 'Stock',\n",
       "  'ticker': '1215510',\n",
       "  'exchange': 'Buenos Aires'}]"
      ]
     },
     "metadata": {},
     "output_type": "display_data"
    },
    {
     "data": {
      "text/plain": [
       "[{'symbol': 'BIL',\n",
       "  'full_name': 'NYSE:BIL',\n",
       "  'description': 'SPDR® Bloomberg 1-3 Month T-Bill ETF',\n",
       "  'type': 'ETF',\n",
       "  'ticker': '45360',\n",
       "  'exchange': 'NYSE'},\n",
       " {'symbol': 'BIL',\n",
       "  'full_name': 'BSE:BIL',\n",
       "  'description': 'Bilcare Ltd',\n",
       "  'type': 'Stock',\n",
       "  'ticker': '39832',\n",
       "  'exchange': 'BSE'}]"
      ]
     },
     "metadata": {},
     "output_type": "display_data"
    },
    {
     "data": {
      "text/plain": [
       "[{'symbol': 'IBIT',\n",
       "  'full_name': 'NASDAQ:IBIT',\n",
       "  'description': 'iShares Bitcoin Trust',\n",
       "  'type': 'ETF',\n",
       "  'ticker': '1210186',\n",
       "  'exchange': 'NASDAQ'},\n",
       " {'symbol': 'IBITECF',\n",
       "  'full_name': 'Tel Aviv:IBITECF',\n",
       "  'description': 'IBITEC FUND',\n",
       "  'type': 'ETF',\n",
       "  'ticker': '1121204',\n",
       "  'exchange': 'Tel Aviv'}]"
      ]
     },
     "metadata": {},
     "output_type": "display_data"
    },
    {
     "data": {
      "text/plain": [
       "[{'symbol': 'ROMI3',\n",
       "  'full_name': 'B3:ROMI3',\n",
       "  'description': 'Industrias Romi SA',\n",
       "  'type': 'Stock',\n",
       "  'ticker': '18773',\n",
       "  'exchange': 'B3'}]"
      ]
     },
     "metadata": {},
     "output_type": "display_data"
    },
    {
     "data": {
      "text/plain": [
       "[{'symbol': 'HGPO11',\n",
       "  'full_name': 'B3:HGPO11',\n",
       "  'description': 'CSHG JHSF Prime Offices',\n",
       "  'type': 'Stock',\n",
       "  'ticker': '940788',\n",
       "  'exchange': 'B3'}]"
      ]
     },
     "metadata": {},
     "output_type": "display_data"
    },
    {
     "data": {
      "text/plain": [
       "[{'symbol': 'ITSA4',\n",
       "  'full_name': 'B3:ITSA4',\n",
       "  'description': 'Itausa - Investimentos Itau SA',\n",
       "  'type': 'Stock',\n",
       "  'ticker': '18706',\n",
       "  'exchange': 'B3'}]"
      ]
     },
     "metadata": {},
     "output_type": "display_data"
    },
    {
     "data": {
      "text/plain": [
       "[{'symbol': 'LFT030127=ANDS',\n",
       "  'full_name': 'OTC Bonds:LFT030127=ANDS',\n",
       "  'description': 'Tesouro Selic Vencimento em 01/03/2027',\n",
       "  'type': 'Bond Yield',\n",
       "  'ticker': '1172586',\n",
       "  'exchange': 'OTC Bonds'}]"
      ]
     },
     "metadata": {},
     "output_type": "display_data"
    },
    {
     "data": {
      "text/plain": [
       "[{'symbol': 'CMIG4',\n",
       "  'full_name': 'B3:CMIG4',\n",
       "  'description': 'Energy of Minas Gerais Co Preferred',\n",
       "  'type': 'Stock',\n",
       "  'ticker': '18642',\n",
       "  'exchange': 'B3'},\n",
       " {'symbol': 'CMIG4',\n",
       "  'full_name': 'LATIBEX:CMIG4',\n",
       "  'description': 'Energy of Minas Gerais Co Preferred',\n",
       "  'type': 'Stock',\n",
       "  'ticker': '48613',\n",
       "  'exchange': 'LATIBEX'}]"
      ]
     },
     "metadata": {},
     "output_type": "display_data"
    },
    {
     "data": {
      "text/plain": [
       "[{'symbol': 'GGBR4',\n",
       "  'full_name': 'B3:GGBR4',\n",
       "  'description': 'Gerdau SA Pref',\n",
       "  'type': 'Stock',\n",
       "  'ticker': '18689',\n",
       "  'exchange': 'B3'},\n",
       " {'symbol': 'GGBR4',\n",
       "  'full_name': 'LATIBEX:GGBR4',\n",
       "  'description': 'Gerdau SA Pref',\n",
       "  'type': 'Stock',\n",
       "  'ticker': '48615',\n",
       "  'exchange': 'LATIBEX'}]"
      ]
     },
     "metadata": {},
     "output_type": "display_data"
    },
    {
     "data": {
      "text/plain": [
       "[{'symbol': 'BBDC4',\n",
       "  'full_name': 'B3:BBDC4',\n",
       "  'description': 'Banco Bradesco SA Pref',\n",
       "  'type': 'Stock',\n",
       "  'ticker': '18606',\n",
       "  'exchange': 'B3'}]"
      ]
     },
     "metadata": {},
     "output_type": "display_data"
    },
    {
     "data": {
      "text/plain": [
       "[{'symbol': 'HGLG11',\n",
       "  'full_name': 'B3:HGLG11',\n",
       "  'description': 'FII CSHG LOG',\n",
       "  'type': 'Stock',\n",
       "  'ticker': '940953',\n",
       "  'exchange': 'B3'}]"
      ]
     },
     "metadata": {},
     "output_type": "display_data"
    },
    {
     "data": {
      "text/plain": [
       "[{'symbol': 'BODB11',\n",
       "  'full_name': 'B3:BODB11',\n",
       "  'description': 'Fundo De Investimento Em Quotas De Fundos De Investimento Multimercado Portfolio',\n",
       "  'type': 'Stock',\n",
       "  'ticker': '1193135',\n",
       "  'exchange': 'B3'}]"
      ]
     },
     "metadata": {},
     "output_type": "display_data"
    },
    {
     "data": {
      "text/plain": [
       "[{'symbol': 'VALE3',\n",
       "  'full_name': 'B3:VALE3',\n",
       "  'description': 'Vale SA',\n",
       "  'type': 'Stock',\n",
       "  'ticker': '18814',\n",
       "  'exchange': 'B3'},\n",
       " {'symbol': 'VALE3',\n",
       "  'full_name': 'Frankfurt:VALE3',\n",
       "  'description': 'Vale SA',\n",
       "  'type': 'Stock',\n",
       "  'ticker': '18815',\n",
       "  'exchange': 'Frankfurt'}]"
      ]
     },
     "metadata": {},
     "output_type": "display_data"
    },
    {
     "data": {
      "text/plain": [
       "[{'symbol': 'TRXF11',\n",
       "  'full_name': 'B3:TRXF11',\n",
       "  'description': 'Trx Real Estate Fii',\n",
       "  'type': 'Stock',\n",
       "  'ticker': '1159424',\n",
       "  'exchange': 'B3'}]"
      ]
     },
     "metadata": {},
     "output_type": "display_data"
    },
    {
     "data": {
      "text/plain": [
       "[{'symbol': 'CLIN11',\n",
       "  'full_name': 'B3:CLIN11',\n",
       "  'description': 'Clave Indices de Precos Fundo de Investimento Imobiliario',\n",
       "  'type': 'Stock',\n",
       "  'ticker': '1210775',\n",
       "  'exchange': 'B3'}]"
      ]
     },
     "metadata": {},
     "output_type": "display_data"
    },
    {
     "data": {
      "text/plain": [
       "[{'symbol': 'CPTI11',\n",
       "  'full_name': 'B3:CPTI11',\n",
       "  'description': 'Capitania Infra FICF Inc Inv em Infr Renda Fixa CP',\n",
       "  'type': 'Stock',\n",
       "  'ticker': '1175289',\n",
       "  'exchange': 'B3'}]"
      ]
     },
     "metadata": {},
     "output_type": "display_data"
    },
    {
     "data": {
      "text/plain": [
       "[{'symbol': 'NTB051545=',\n",
       "  'full_name': 'OTC Bonds:NTB051545=',\n",
       "  'description': 'Tesouro IPCA + NTNB 6 15-May-2045',\n",
       "  'type': 'Bond Yield',\n",
       "  'ticker': '1089897',\n",
       "  'exchange': 'OTC Bonds'}]"
      ]
     },
     "metadata": {},
     "output_type": "display_data"
    },
    {
     "data": {
      "text/plain": [
       "[{'symbol': 'TRPL4',\n",
       "  'full_name': 'B3:TRPL4',\n",
       "  'description': 'CTEEP Cia de Transmissao de Energia',\n",
       "  'type': 'Stock',\n",
       "  'ticker': '18805',\n",
       "  'exchange': 'B3'}]"
      ]
     },
     "metadata": {},
     "output_type": "display_data"
    },
    {
     "data": {
      "text/plain": [
       "[{'symbol': 'KNSC11',\n",
       "  'full_name': 'B3:KNSC11',\n",
       "  'description': 'Kinea Securities FI Imobiliario FII',\n",
       "  'type': 'Stock',\n",
       "  'ticker': '1167511',\n",
       "  'exchange': 'B3'}]"
      ]
     },
     "metadata": {},
     "output_type": "display_data"
    },
    {
     "data": {
      "text/plain": [
       "[{'symbol': 'KNIP11',\n",
       "  'full_name': 'B3:KNIP11',\n",
       "  'description': 'Kinea Private Equity Investimentos SA',\n",
       "  'type': 'Stock',\n",
       "  'ticker': '1009365',\n",
       "  'exchange': 'B3'}]"
      ]
     },
     "metadata": {},
     "output_type": "display_data"
    },
    {
     "data": {
      "text/plain": [
       "[{'symbol': 'RBRR11',\n",
       "  'full_name': 'B3:RBRR11',\n",
       "  'description': 'FII RBR Rendimento High Grade',\n",
       "  'type': 'Stock',\n",
       "  'ticker': '1091188',\n",
       "  'exchange': 'B3'}]"
      ]
     },
     "metadata": {},
     "output_type": "display_data"
    },
    {
     "data": {
      "text/plain": [
       "[{'symbol': 'TLT',\n",
       "  'full_name': 'NASDAQ:TLT',\n",
       "  'description': 'iShares 20+ Year Treasury Bond ETF',\n",
       "  'type': 'ETF',\n",
       "  'ticker': '40654',\n",
       "  'exchange': 'NASDAQ'},\n",
       " {'symbol': 'TLT',\n",
       "  'full_name': 'Hanoi:TLT',\n",
       "  'description': 'Viglacera Thang Long JSC',\n",
       "  'type': 'Stock',\n",
       "  'ticker': '958704',\n",
       "  'exchange': 'Hanoi'}]"
      ]
     },
     "metadata": {},
     "output_type": "display_data"
    },
    {
     "data": {
      "text/plain": [
       "[{'symbol': 'CIEL3',\n",
       "  'full_name': 'B3:CIEL3',\n",
       "  'description': 'Cielo SA',\n",
       "  'type': 'Stock',\n",
       "  'ticker': '18639',\n",
       "  'exchange': 'B3'}]"
      ]
     },
     "metadata": {},
     "output_type": "display_data"
    },
    {
     "data": {
      "text/plain": [
       "[{'symbol': 'ALUG11',\n",
       "  'full_name': 'B3:ALUG11',\n",
       "  'description': 'Investo ETF MSCI US Real Estate ETF FDI',\n",
       "  'type': 'ETF',\n",
       "  'ticker': '1179787',\n",
       "  'exchange': 'B3'}]"
      ]
     },
     "metadata": {},
     "output_type": "display_data"
    },
    {
     "data": {
      "text/plain": [
       "[{'symbol': 'BITH11',\n",
       "  'full_name': 'B3:BITH11',\n",
       "  'description': 'Hashdex NASDAQ Bitcoin Reference Price Fundo de Índice',\n",
       "  'type': 'ETF',\n",
       "  'ticker': '1176873',\n",
       "  'exchange': 'B3'}]"
      ]
     },
     "metadata": {},
     "output_type": "display_data"
    },
    {
     "data": {
      "text/plain": [
       "[{'symbol': 'SAPR4',\n",
       "  'full_name': 'B3:SAPR4',\n",
       "  'description': 'Companhia de Saneamento do Parana Sanepar',\n",
       "  'type': 'Stock',\n",
       "  'ticker': '969126',\n",
       "  'exchange': 'B3'}]"
      ]
     },
     "metadata": {},
     "output_type": "display_data"
    },
    {
     "data": {
      "text/plain": [
       "[{'symbol': 'KORE11',\n",
       "  'full_name': 'B3:KORE11',\n",
       "  'description': 'Kinea Oportunidades Real Estate FI Imobiliario',\n",
       "  'type': 'Stock',\n",
       "  'ticker': '1209439',\n",
       "  'exchange': 'B3'}]"
      ]
     },
     "metadata": {},
     "output_type": "display_data"
    },
    {
     "data": {
      "text/plain": [
       "[{'symbol': 'HGRE11',\n",
       "  'full_name': 'B3:HGRE11',\n",
       "  'description': 'FII HG REAL',\n",
       "  'type': 'Stock',\n",
       "  'ticker': '940954',\n",
       "  'exchange': 'B3'}]"
      ]
     },
     "metadata": {},
     "output_type": "display_data"
    },
    {
     "data": {
      "text/plain": [
       "[{'symbol': 'RBVA11',\n",
       "  'full_name': 'B3:RBVA11',\n",
       "  'description': 'FII Rio Bravo Rendo Varejo',\n",
       "  'type': 'Stock',\n",
       "  'ticker': '1131594',\n",
       "  'exchange': 'B3'}]"
      ]
     },
     "metadata": {},
     "output_type": "display_data"
    },
    {
     "data": {
      "text/plain": [
       "[{'symbol': 'KNCA11',\n",
       "  'full_name': 'B3:KNCA11',\n",
       "  'description': 'Kinea Crédito Agro Fiagro Imobiliário',\n",
       "  'type': 'Stock',\n",
       "  'ticker': '1185702',\n",
       "  'exchange': 'B3'}]"
      ]
     },
     "metadata": {},
     "output_type": "display_data"
    },
    {
     "data": {
      "text/plain": [
       "[{'symbol': 'PSSA3',\n",
       "  'full_name': 'B3:PSSA3',\n",
       "  'description': 'Porto Seguro SA',\n",
       "  'type': 'Stock',\n",
       "  'ticker': '18760',\n",
       "  'exchange': 'B3'}]"
      ]
     },
     "metadata": {},
     "output_type": "display_data"
    },
    {
     "ename": "IndexError",
     "evalue": "list index out of range",
     "output_type": "error",
     "traceback": [
      "\u001b[1;31m---------------------------------------------------------------------------\u001b[0m",
      "\u001b[1;31mIndexError\u001b[0m                                Traceback (most recent call last)",
      "Cell \u001b[1;32mIn[38], line 8\u001b[0m\n\u001b[0;32m      6\u001b[0m \u001b[38;5;28;01mfor\u001b[39;00m name_asset \u001b[38;5;129;01min\u001b[39;00m portifolio\u001b[38;5;241m.\u001b[39mdata[\u001b[38;5;124m\"\u001b[39m\u001b[38;5;124mticker\u001b[39m\u001b[38;5;124m\"\u001b[39m]\u001b[38;5;241m.\u001b[39munique():\n\u001b[0;32m      7\u001b[0m     _temp \u001b[38;5;241m=\u001b[39m invest\u001b[38;5;241m.\u001b[39msearch_assets(query\u001b[38;5;241m=\u001b[39mname_asset, limit\u001b[38;5;241m=\u001b[39m\u001b[38;5;241m1\u001b[39m)\n\u001b[1;32m----> 8\u001b[0m     assets\u001b[38;5;241m.\u001b[39mappend(\u001b[43m_temp\u001b[49m\u001b[43m[\u001b[49m\u001b[38;5;241;43m0\u001b[39;49m\u001b[43m]\u001b[49m[\u001b[38;5;124m\"\u001b[39m\u001b[38;5;124mticker\u001b[39m\u001b[38;5;124m\"\u001b[39m])\n\u001b[0;32m      9\u001b[0m     display(_temp)\n",
      "\u001b[1;31mIndexError\u001b[0m: list index out of range"
     ]
    }
   ],
   "source": [
    "import investiny as invest\n",
    "portifolio = Portfolio(data_base)\n",
    "self = portifolio\n",
    "display(portifolio.data[\"ticker\"].unique())\n",
    "assets = []\n",
    "for name_asset in portifolio.data[\"ticker\"].unique():\n",
    "    _temp = invest.search_assets(query=name_asset, limit=1)\n",
    "    assets.append(_temp[0][\"ticker\"])\n",
    "    display(_temp)\n"
   ]
  },
  {
   "cell_type": "code",
   "execution_count": 12,
   "metadata": {},
   "outputs": [
    {
     "ename": "NameError",
     "evalue": "name 'assets' is not defined",
     "output_type": "error",
     "traceback": [
      "\u001b[1;31m---------------------------------------------------------------------------\u001b[0m",
      "\u001b[1;31mNameError\u001b[0m                                 Traceback (most recent call last)",
      "Cell \u001b[1;32mIn[12], line 1\u001b[0m\n\u001b[1;32m----> 1\u001b[0m display(\u001b[43massets\u001b[49m)\n",
      "\u001b[1;31mNameError\u001b[0m: name 'assets' is not defined"
     ]
    }
   ],
   "source": [
    "display(assets)"
   ]
  },
  {
   "cell_type": "code",
   "execution_count": 6,
   "metadata": {},
   "outputs": [
    {
     "data": {
      "text/html": [
       "<div>\n",
       "<style scoped>\n",
       "    .dataframe tbody tr th:only-of-type {\n",
       "        vertical-align: middle;\n",
       "    }\n",
       "\n",
       "    .dataframe tbody tr th {\n",
       "        vertical-align: top;\n",
       "    }\n",
       "\n",
       "    .dataframe thead th {\n",
       "        text-align: right;\n",
       "    }\n",
       "</style>\n",
       "<table border=\"1\" class=\"dataframe\">\n",
       "  <thead>\n",
       "    <tr style=\"text-align: right;\">\n",
       "      <th></th>\n",
       "      <th>owner</th>\n",
       "      <th>date</th>\n",
       "      <th>ticker</th>\n",
       "      <th>buy</th>\n",
       "      <th>price</th>\n",
       "      <th>amount</th>\n",
       "      <th>curency</th>\n",
       "    </tr>\n",
       "  </thead>\n",
       "  <tbody>\n",
       "    <tr>\n",
       "      <th>0</th>\n",
       "      <td>Luciane</td>\n",
       "      <td>2024-06-07</td>\n",
       "      <td>ALZR11</td>\n",
       "      <td>True</td>\n",
       "      <td>107.43</td>\n",
       "      <td>2.0</td>\n",
       "      <td>USD</td>\n",
       "    </tr>\n",
       "    <tr>\n",
       "      <th>1</th>\n",
       "      <td>Luiz</td>\n",
       "      <td>2024-06-07</td>\n",
       "      <td>ALZR11</td>\n",
       "      <td>True</td>\n",
       "      <td>107.43</td>\n",
       "      <td>1.0</td>\n",
       "      <td>USD</td>\n",
       "    </tr>\n",
       "    <tr>\n",
       "      <th>2</th>\n",
       "      <td>Luiz</td>\n",
       "      <td>2024-06-07</td>\n",
       "      <td>LFTS11</td>\n",
       "      <td>True</td>\n",
       "      <td>120.19</td>\n",
       "      <td>8.0</td>\n",
       "      <td>USD</td>\n",
       "    </tr>\n",
       "    <tr>\n",
       "      <th>3</th>\n",
       "      <td>Luciane</td>\n",
       "      <td>2024-05-28</td>\n",
       "      <td>LFTS11</td>\n",
       "      <td>True</td>\n",
       "      <td>119.86</td>\n",
       "      <td>40.0</td>\n",
       "      <td>USD</td>\n",
       "    </tr>\n",
       "    <tr>\n",
       "      <th>4</th>\n",
       "      <td>Luciane</td>\n",
       "      <td>2024-05-20</td>\n",
       "      <td>LFTS11</td>\n",
       "      <td>False</td>\n",
       "      <td>119.59</td>\n",
       "      <td>42.0</td>\n",
       "      <td>USD</td>\n",
       "    </tr>\n",
       "    <tr>\n",
       "      <th>...</th>\n",
       "      <td>...</td>\n",
       "      <td>...</td>\n",
       "      <td>...</td>\n",
       "      <td>...</td>\n",
       "      <td>...</td>\n",
       "      <td>...</td>\n",
       "      <td>...</td>\n",
       "    </tr>\n",
       "    <tr>\n",
       "      <th>389</th>\n",
       "      <td>Luiz</td>\n",
       "      <td>2020-12-11</td>\n",
       "      <td>SPXI11</td>\n",
       "      <td>True</td>\n",
       "      <td>195.89</td>\n",
       "      <td>1.0</td>\n",
       "      <td>USD</td>\n",
       "    </tr>\n",
       "    <tr>\n",
       "      <th>390</th>\n",
       "      <td>Luiz</td>\n",
       "      <td>2020-12-04</td>\n",
       "      <td>SPXI11</td>\n",
       "      <td>True</td>\n",
       "      <td>201.92</td>\n",
       "      <td>1.0</td>\n",
       "      <td>USD</td>\n",
       "    </tr>\n",
       "    <tr>\n",
       "      <th>391</th>\n",
       "      <td>Luiz</td>\n",
       "      <td>2020-11-25</td>\n",
       "      <td>SPXI11</td>\n",
       "      <td>True</td>\n",
       "      <td>204.60</td>\n",
       "      <td>1.0</td>\n",
       "      <td>USD</td>\n",
       "    </tr>\n",
       "    <tr>\n",
       "      <th>392</th>\n",
       "      <td>Luiz</td>\n",
       "      <td>2020-11-18</td>\n",
       "      <td>SPXI11</td>\n",
       "      <td>True</td>\n",
       "      <td>202.65</td>\n",
       "      <td>1.0</td>\n",
       "      <td>USD</td>\n",
       "    </tr>\n",
       "    <tr>\n",
       "      <th>393</th>\n",
       "      <td>Luiz</td>\n",
       "      <td>2020-11-10</td>\n",
       "      <td>SPXI11</td>\n",
       "      <td>True</td>\n",
       "      <td>202.19</td>\n",
       "      <td>1.0</td>\n",
       "      <td>USD</td>\n",
       "    </tr>\n",
       "  </tbody>\n",
       "</table>\n",
       "<p>394 rows × 7 columns</p>\n",
       "</div>"
      ],
      "text/plain": [
       "       owner       date  ticker    buy   price  amount curency\n",
       "0    Luciane 2024-06-07  ALZR11   True  107.43     2.0     USD\n",
       "1       Luiz 2024-06-07  ALZR11   True  107.43     1.0     USD\n",
       "2       Luiz 2024-06-07  LFTS11   True  120.19     8.0     USD\n",
       "3    Luciane 2024-05-28  LFTS11   True  119.86    40.0     USD\n",
       "4    Luciane 2024-05-20  LFTS11  False  119.59    42.0     USD\n",
       "..       ...        ...     ...    ...     ...     ...     ...\n",
       "389     Luiz 2020-12-11  SPXI11   True  195.89     1.0     USD\n",
       "390     Luiz 2020-12-04  SPXI11   True  201.92     1.0     USD\n",
       "391     Luiz 2020-11-25  SPXI11   True  204.60     1.0     USD\n",
       "392     Luiz 2020-11-18  SPXI11   True  202.65     1.0     USD\n",
       "393     Luiz 2020-11-10  SPXI11   True  202.19     1.0     USD\n",
       "\n",
       "[394 rows x 7 columns]"
      ]
     },
     "metadata": {},
     "output_type": "display_data"
    }
   ],
   "source": [
    "display(portifolio.data)"
   ]
  },
  {
   "cell_type": "code",
   "execution_count": 5,
   "metadata": {},
   "outputs": [
    {
     "name": "stderr",
     "output_type": "stream",
     "text": [
      "ALZR11.SA: No price data found, symbol may be delisted (1d 2024-06-09 -> 2024-06-09)\n"
     ]
    },
    {
     "ename": "IndexError",
     "evalue": "index 0 is out of bounds for axis 0 with size 0",
     "output_type": "error",
     "traceback": [
      "\u001b[1;31m---------------------------------------------------------------------------\u001b[0m",
      "\u001b[1;31mIndexError\u001b[0m                                Traceback (most recent call last)",
      "Cell \u001b[1;32mIn[5], line 14\u001b[0m\n\u001b[0;32m     10\u001b[0m \u001b[38;5;28;01mfor\u001b[39;00m ticker \u001b[38;5;129;01min\u001b[39;00m \u001b[38;5;28mself\u001b[39m\u001b[38;5;241m.\u001b[39mget_values({\u001b[38;5;124m\"\u001b[39m\u001b[38;5;124mowner\u001b[39m\u001b[38;5;124m\"\u001b[39m:profile})[\u001b[38;5;124m\"\u001b[39m\u001b[38;5;124mticker\u001b[39m\u001b[38;5;124m\"\u001b[39m]\u001b[38;5;241m.\u001b[39munique():\n\u001b[0;32m     12\u001b[0m     _amount \u001b[38;5;241m=\u001b[39m (\u001b[38;5;28msum\u001b[39m(\u001b[38;5;28mself\u001b[39m\u001b[38;5;241m.\u001b[39mget_values({\u001b[38;5;124m\"\u001b[39m\u001b[38;5;124mowner\u001b[39m\u001b[38;5;124m\"\u001b[39m:profile,\u001b[38;5;124m\"\u001b[39m\u001b[38;5;124mticker\u001b[39m\u001b[38;5;124m\"\u001b[39m:ticker,\u001b[38;5;124m\"\u001b[39m\u001b[38;5;124mbuy\u001b[39m\u001b[38;5;124m\"\u001b[39m:\u001b[38;5;28;01mTrue\u001b[39;00m})[\u001b[38;5;124m\"\u001b[39m\u001b[38;5;124mamount\u001b[39m\u001b[38;5;124m\"\u001b[39m]) \n\u001b[0;32m     13\u001b[0m              \u001b[38;5;241m-\u001b[39m \u001b[38;5;28msum\u001b[39m(\u001b[38;5;28mself\u001b[39m\u001b[38;5;241m.\u001b[39mget_values({\u001b[38;5;124m\"\u001b[39m\u001b[38;5;124mowner\u001b[39m\u001b[38;5;124m\"\u001b[39m:profile,\u001b[38;5;124m\"\u001b[39m\u001b[38;5;124mticker\u001b[39m\u001b[38;5;124m\"\u001b[39m:ticker,\u001b[38;5;124m\"\u001b[39m\u001b[38;5;124mbuy\u001b[39m\u001b[38;5;124m\"\u001b[39m:\u001b[38;5;28;01mFalse\u001b[39;00m})[\u001b[38;5;124m\"\u001b[39m\u001b[38;5;124mamount\u001b[39m\u001b[38;5;124m\"\u001b[39m]))  \n\u001b[1;32m---> 14\u001b[0m     _position_dataframe\u001b[38;5;241m.\u001b[39mloc[ticker][\u001b[38;5;124m\"\u001b[39m\u001b[38;5;124mPreço atual\u001b[39m\u001b[38;5;124m\"\u001b[39m] \u001b[38;5;241m=\u001b[39m \u001b[43myf\u001b[49m\u001b[38;5;241;43m.\u001b[39;49m\u001b[43mTicker\u001b[49m\u001b[43m(\u001b[49m\u001b[38;5;124;43mf\u001b[39;49m\u001b[38;5;124;43m\"\u001b[39;49m\u001b[38;5;132;43;01m{\u001b[39;49;00m\u001b[43mticker\u001b[49m\u001b[38;5;132;43;01m}\u001b[39;49;00m\u001b[38;5;124;43m.SA\u001b[39;49m\u001b[38;5;124;43m\"\u001b[39;49m\u001b[43m)\u001b[49m\u001b[38;5;241;43m.\u001b[39;49m\u001b[43mhistory\u001b[49m\u001b[43m(\u001b[49m\u001b[43mstart\u001b[49m\u001b[38;5;241;43m=\u001b[39;49m\u001b[43mdate\u001b[49m\u001b[38;5;241;43m.\u001b[39;49m\u001b[43mtoday\u001b[49m\u001b[43m(\u001b[49m\u001b[43m)\u001b[49m\u001b[43m)\u001b[49m\u001b[43m[\u001b[49m\u001b[38;5;124;43m\"\u001b[39;49m\u001b[38;5;124;43mClose\u001b[39;49m\u001b[38;5;124;43m\"\u001b[39;49m\u001b[43m]\u001b[49m\u001b[38;5;241;43m.\u001b[39;49m\u001b[43mvalues\u001b[49m\u001b[43m[\u001b[49m\u001b[38;5;241;43m0\u001b[39;49m\u001b[43m]\u001b[49m\n\u001b[0;32m     15\u001b[0m     _position_dataframe\u001b[38;5;241m.\u001b[39mloc[ticker][\u001b[38;5;124m\"\u001b[39m\u001b[38;5;124mQuantidade\u001b[39m\u001b[38;5;124m\"\u001b[39m] \u001b[38;5;241m=\u001b[39m _amount\n\u001b[0;32m     16\u001b[0m     \u001b[38;5;66;03m# _position_dataframe[\"Valor atual\"][ticker] = _actual_price\u001b[39;00m\n",
      "\u001b[1;31mIndexError\u001b[0m: index 0 is out of bounds for axis 0 with size 0"
     ]
    }
   ],
   "source": [
    "\n",
    "    \n"
   ]
  },
  {
   "cell_type": "code",
   "execution_count": 27,
   "metadata": {},
   "outputs": [
    {
     "data": {
      "text/html": [
       "<div>\n",
       "<style scoped>\n",
       "    .dataframe tbody tr th:only-of-type {\n",
       "        vertical-align: middle;\n",
       "    }\n",
       "\n",
       "    .dataframe tbody tr th {\n",
       "        vertical-align: top;\n",
       "    }\n",
       "\n",
       "    .dataframe thead th {\n",
       "        text-align: right;\n",
       "    }\n",
       "</style>\n",
       "<table border=\"1\" class=\"dataframe\">\n",
       "  <thead>\n",
       "    <tr style=\"text-align: right;\">\n",
       "      <th></th>\n",
       "      <th>Quantidade</th>\n",
       "      <th>Preço atual</th>\n",
       "    </tr>\n",
       "  </thead>\n",
       "  <tbody>\n",
       "    <tr>\n",
       "      <th>ALZR11</th>\n",
       "      <td>4.0</td>\n",
       "      <td>109.190002</td>\n",
       "    </tr>\n",
       "    <tr>\n",
       "      <th>LFTS11</th>\n",
       "      <td>8.0</td>\n",
       "      <td>120.18</td>\n",
       "    </tr>\n",
       "    <tr>\n",
       "      <th>HGRU11</th>\n",
       "      <td>0.0</td>\n",
       "      <td>128.0</td>\n",
       "    </tr>\n",
       "    <tr>\n",
       "      <th>SUZB3</th>\n",
       "      <td>24.0</td>\n",
       "      <td>48.650002</td>\n",
       "    </tr>\n",
       "    <tr>\n",
       "      <th>BBAS3</th>\n",
       "      <td>48.0</td>\n",
       "      <td>27.18</td>\n",
       "    </tr>\n",
       "    <tr>\n",
       "      <th>BIL</th>\n",
       "      <td>NaN</td>\n",
       "      <td>NaN</td>\n",
       "    </tr>\n",
       "    <tr>\n",
       "      <th>IBIT</th>\n",
       "      <td>NaN</td>\n",
       "      <td>NaN</td>\n",
       "    </tr>\n",
       "    <tr>\n",
       "      <th>ROMI3</th>\n",
       "      <td>NaN</td>\n",
       "      <td>NaN</td>\n",
       "    </tr>\n",
       "    <tr>\n",
       "      <th>HGPO11</th>\n",
       "      <td>NaN</td>\n",
       "      <td>NaN</td>\n",
       "    </tr>\n",
       "    <tr>\n",
       "      <th>ITSA4</th>\n",
       "      <td>NaN</td>\n",
       "      <td>NaN</td>\n",
       "    </tr>\n",
       "    <tr>\n",
       "      <th>Selic 2029</th>\n",
       "      <td>NaN</td>\n",
       "      <td>NaN</td>\n",
       "    </tr>\n",
       "    <tr>\n",
       "      <th>CMIG4</th>\n",
       "      <td>NaN</td>\n",
       "      <td>NaN</td>\n",
       "    </tr>\n",
       "    <tr>\n",
       "      <th>GGBR4</th>\n",
       "      <td>NaN</td>\n",
       "      <td>NaN</td>\n",
       "    </tr>\n",
       "    <tr>\n",
       "      <th>TRXF11</th>\n",
       "      <td>NaN</td>\n",
       "      <td>NaN</td>\n",
       "    </tr>\n",
       "    <tr>\n",
       "      <th>CLIN11</th>\n",
       "      <td>NaN</td>\n",
       "      <td>NaN</td>\n",
       "    </tr>\n",
       "    <tr>\n",
       "      <th>BODB11</th>\n",
       "      <td>NaN</td>\n",
       "      <td>NaN</td>\n",
       "    </tr>\n",
       "    <tr>\n",
       "      <th>CPTI11</th>\n",
       "      <td>NaN</td>\n",
       "      <td>NaN</td>\n",
       "    </tr>\n",
       "    <tr>\n",
       "      <th>IPCA+ 2045</th>\n",
       "      <td>NaN</td>\n",
       "      <td>NaN</td>\n",
       "    </tr>\n",
       "    <tr>\n",
       "      <th>SLCE3</th>\n",
       "      <td>NaN</td>\n",
       "      <td>NaN</td>\n",
       "    </tr>\n",
       "    <tr>\n",
       "      <th>TRPL4</th>\n",
       "      <td>NaN</td>\n",
       "      <td>NaN</td>\n",
       "    </tr>\n",
       "    <tr>\n",
       "      <th>VALE3</th>\n",
       "      <td>NaN</td>\n",
       "      <td>NaN</td>\n",
       "    </tr>\n",
       "    <tr>\n",
       "      <th>KNSC11</th>\n",
       "      <td>NaN</td>\n",
       "      <td>NaN</td>\n",
       "    </tr>\n",
       "    <tr>\n",
       "      <th>KNIP11</th>\n",
       "      <td>NaN</td>\n",
       "      <td>NaN</td>\n",
       "    </tr>\n",
       "    <tr>\n",
       "      <th>TLT</th>\n",
       "      <td>NaN</td>\n",
       "      <td>NaN</td>\n",
       "    </tr>\n",
       "    <tr>\n",
       "      <th>HGLG11</th>\n",
       "      <td>NaN</td>\n",
       "      <td>NaN</td>\n",
       "    </tr>\n",
       "    <tr>\n",
       "      <th>CIEL3</th>\n",
       "      <td>NaN</td>\n",
       "      <td>NaN</td>\n",
       "    </tr>\n",
       "    <tr>\n",
       "      <th>KORE11</th>\n",
       "      <td>NaN</td>\n",
       "      <td>NaN</td>\n",
       "    </tr>\n",
       "    <tr>\n",
       "      <th>HSML11</th>\n",
       "      <td>NaN</td>\n",
       "      <td>NaN</td>\n",
       "    </tr>\n",
       "    <tr>\n",
       "      <th>KNCA11</th>\n",
       "      <td>NaN</td>\n",
       "      <td>NaN</td>\n",
       "    </tr>\n",
       "    <tr>\n",
       "      <th>BBDC4</th>\n",
       "      <td>NaN</td>\n",
       "      <td>NaN</td>\n",
       "    </tr>\n",
       "    <tr>\n",
       "      <th>JSRE11</th>\n",
       "      <td>NaN</td>\n",
       "      <td>NaN</td>\n",
       "    </tr>\n",
       "    <tr>\n",
       "      <th>HGCR11</th>\n",
       "      <td>NaN</td>\n",
       "      <td>NaN</td>\n",
       "    </tr>\n",
       "    <tr>\n",
       "      <th>BCRI11</th>\n",
       "      <td>NaN</td>\n",
       "      <td>NaN</td>\n",
       "    </tr>\n",
       "    <tr>\n",
       "      <th>GGRC11</th>\n",
       "      <td>NaN</td>\n",
       "      <td>NaN</td>\n",
       "    </tr>\n",
       "    <tr>\n",
       "      <th>KNCR11</th>\n",
       "      <td>NaN</td>\n",
       "      <td>NaN</td>\n",
       "    </tr>\n",
       "    <tr>\n",
       "      <th>IPCA+ 2029</th>\n",
       "      <td>NaN</td>\n",
       "      <td>NaN</td>\n",
       "    </tr>\n",
       "    <tr>\n",
       "      <th>Prefixado 2029</th>\n",
       "      <td>NaN</td>\n",
       "      <td>NaN</td>\n",
       "    </tr>\n",
       "    <tr>\n",
       "      <th>Selic 2026</th>\n",
       "      <td>NaN</td>\n",
       "      <td>NaN</td>\n",
       "    </tr>\n",
       "    <tr>\n",
       "      <th>SHY</th>\n",
       "      <td>NaN</td>\n",
       "      <td>NaN</td>\n",
       "    </tr>\n",
       "    <tr>\n",
       "      <th>IVV</th>\n",
       "      <td>NaN</td>\n",
       "      <td>NaN</td>\n",
       "    </tr>\n",
       "    <tr>\n",
       "      <th>SPXI11</th>\n",
       "      <td>NaN</td>\n",
       "      <td>NaN</td>\n",
       "    </tr>\n",
       "  </tbody>\n",
       "</table>\n",
       "</div>"
      ],
      "text/plain": [
       "               Quantidade Preço atual\n",
       "ALZR11                4.0  109.190002\n",
       "LFTS11                8.0      120.18\n",
       "HGRU11                0.0       128.0\n",
       "SUZB3                24.0   48.650002\n",
       "BBAS3                48.0       27.18\n",
       "BIL                   NaN         NaN\n",
       "IBIT                  NaN         NaN\n",
       "ROMI3                 NaN         NaN\n",
       "HGPO11                NaN         NaN\n",
       "ITSA4                 NaN         NaN\n",
       "Selic 2029            NaN         NaN\n",
       "CMIG4                 NaN         NaN\n",
       "GGBR4                 NaN         NaN\n",
       "TRXF11                NaN         NaN\n",
       "CLIN11                NaN         NaN\n",
       "BODB11                NaN         NaN\n",
       "CPTI11                NaN         NaN\n",
       "IPCA+ 2045            NaN         NaN\n",
       "SLCE3                 NaN         NaN\n",
       "TRPL4                 NaN         NaN\n",
       "VALE3                 NaN         NaN\n",
       "KNSC11                NaN         NaN\n",
       "KNIP11                NaN         NaN\n",
       "TLT                   NaN         NaN\n",
       "HGLG11                NaN         NaN\n",
       "CIEL3                 NaN         NaN\n",
       "KORE11                NaN         NaN\n",
       "HSML11                NaN         NaN\n",
       "KNCA11                NaN         NaN\n",
       "BBDC4                 NaN         NaN\n",
       "JSRE11                NaN         NaN\n",
       "HGCR11                NaN         NaN\n",
       "BCRI11                NaN         NaN\n",
       "GGRC11                NaN         NaN\n",
       "KNCR11                NaN         NaN\n",
       "IPCA+ 2029            NaN         NaN\n",
       "Prefixado 2029        NaN         NaN\n",
       "Selic 2026            NaN         NaN\n",
       "SHY                   NaN         NaN\n",
       "IVV                   NaN         NaN\n",
       "SPXI11                NaN         NaN"
      ]
     },
     "metadata": {},
     "output_type": "display_data"
    }
   ],
   "source": [
    "display(_position_dataframe)"
   ]
  },
  {
   "cell_type": "code",
   "execution_count": 16,
   "metadata": {},
   "outputs": [
    {
     "data": {
      "text/plain": [
       "array([109.19000244])"
      ]
     },
     "metadata": {},
     "output_type": "display_data"
    }
   ],
   "source": [
    "display(yf.Ticker(\"ALZR11.SA\").history(start=date.today())[\"Close\"].values)"
   ]
  },
  {
   "cell_type": "code",
   "execution_count": null,
   "metadata": {},
   "outputs": [],
   "source": [
    "list_profiles = data_base[\"owner\"].unique().tolist()\n",
    "list_profiles = [\"Luiz\"]\n",
    "for profile in list_profiles:\n",
    "    _df = data_base[data_base[\"owner\"]==profile]\n",
    "    \n",
    "    _dict_amount = {}\n",
    "    for ticker in _df[\"ticker\"].unique():\n",
    "\n",
    "        _ticker_buy_mask = _df[(_df[\"ticker\"]==ticker) and _df[\"buy\"]]\n",
    "        _ticker_sell_mask = _df[(_df[\"ticker\"]==ticker) and not _df[\"buy\"]]\n",
    "        _amount = sum(_df[_ticker_buy_mask][\"amount\"])-sum(_df[_ticker_sell_mask][\"amount\"])    \n",
    "        _dict_amount[ticker] = _amount\n"
   ]
  },
  {
   "cell_type": "code",
   "execution_count": null,
   "metadata": {},
   "outputs": [],
   "source": [
    "startdate = date(2020,1,1)\n",
    "end_date = date.today()\n",
    "\n",
    "df = pd.DataFrame()\n",
    "for ticker in stocksymbols:\n",
    "\n",
    "    data = yf.Ticker(ticker).history(start=startdate,end=end_date)[[\"Close\"]]\n",
    "    data.columns = [ticker]\n",
    "\n",
    "    if np.size(df) == 0:\n",
    "        df = data\n",
    "    else:\n",
    "        df = df.join(data)\n"
   ]
  },
  {
   "cell_type": "code",
   "execution_count": null,
   "metadata": {},
   "outputs": [],
   "source": [
    "list_transactions = []\n",
    "for index in raw_data.index:\n",
    "    list_transactions.append(\n",
    "        Transaction(\n",
    "            owner=raw_data.loc[index][\"Banco\"]\n",
    "            \n",
    "        )\n",
    "        )"
   ]
  }
 ],
 "metadata": {
  "kernelspec": {
   "display_name": "Python 3",
   "language": "python",
   "name": "python3"
  },
  "language_info": {
   "codemirror_mode": {
    "name": "ipython",
    "version": 3
   },
   "file_extension": ".py",
   "mimetype": "text/x-python",
   "name": "python",
   "nbconvert_exporter": "python",
   "pygments_lexer": "ipython3",
   "version": "3.12.3"
  }
 },
 "nbformat": 4,
 "nbformat_minor": 2
}
