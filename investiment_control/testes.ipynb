{
 "cells": [
  {
   "cell_type": "code",
   "execution_count": 1,
   "metadata": {},
   "outputs": [],
   "source": [
    "import numpy as np\n",
    "import os\n",
    "import yfinance as yf\n",
    "import pandas as pd\n",
    "from pathlib import Path\n",
    "from datetime import datetime,timedelta\n",
    "from classes import Portfolio\n",
    "import matplotlib.pyplot as plt\n",
    "from dateutil.relativedelta import relativedelta\n",
    "from asset_database import DICT_ASSET_INFO\n",
    "from tools import get_value,plot_actual_postion,plot_earnings_in_last_months,get_position\n",
    "from anbima_token import ANBIMA_TOKEN,credentials\n",
    "from historico_tesouro.tresury_history import DICT_TRESURY_HISTORY\n",
    "from transactions import GLOBAL_DATA_BASE\n",
    "\n",
    "current_path = Path.cwd()"
   ]
  },
  {
   "cell_type": "code",
   "execution_count": 2,
   "metadata": {},
   "outputs": [],
   "source": [
    "portfolio_luiz = Portfolio(GLOBAL_DATA_BASE[GLOBAL_DATA_BASE[\"owner\"]==\"Luiz\"].drop(\"owner\",axis=1))\n",
    "portfolio_luciane = Portfolio(GLOBAL_DATA_BASE[GLOBAL_DATA_BASE[\"owner\"]==\"Luciane\"].drop(\"owner\",axis=1))"
   ]
  },
  {
   "cell_type": "code",
   "execution_count": 3,
   "metadata": {},
   "outputs": [],
   "source": [
    "df = portfolio_luiz.data_base[portfolio_luiz.data_base[\"class\"]!=\"Tesouro\"]"
   ]
  },
  {
   "cell_type": "code",
   "execution_count": 31,
   "metadata": {},
   "outputs": [],
   "source": [
    "dividends_data_base = pd.DataFrame(columns=[\"date\",\"ticker\",\"dividend\",\"amount\",\"total_dividend\"])\n",
    "\n",
    "for ticker in df[\"ticker\"].unique():\n",
    "\n",
    "    dividend_data = yf.Ticker(DICT_ASSET_INFO[ticker].ticker).dividends\n",
    "    for dividend_date,dividend in zip(dividend_data.index,dividend_data):\n",
    "        date = datetime(dividend_date.year,dividend_date.month,dividend_date.day)\n",
    "        position_in_date = get_position(\n",
    "            data_base=df,\n",
    "            ticker=ticker,\n",
    "            date=date,\n",
    "        )[1]\n",
    "        if position_in_date > 0:\n",
    "\n",
    "            dict_dividend = {\n",
    "                \"date\":dividend_date,\n",
    "                \"ticker\":ticker,\n",
    "                \"dividend\":dividend,\n",
    "                \"amount\":position_in_date,\n",
    "                \"total_dividend\":position_in_date * dividend,\n",
    "            }\n",
    "\n",
    "            if DICT_ASSET_INFO[ticker].asset_class == \"USD\":\n",
    "\n",
    "                earlier = date - timedelta(days=7)\n",
    "                usd_brl = yf.Ticker(\"BRL%3DX\").history(start=earlier,end=date)[[\"Close\"]]\n",
    "                usd_brl = usd_brl.sort_index(ascending=False).iloc[0].values[0]\n",
    "                dict_dividend[\"dividend\"] = dict_dividend[\"dividend\"] * usd_brl\n",
    "                dict_dividend[\"total_dividend\"] = dict_dividend[\"total_dividend\"] * usd_brl\n",
    "\n",
    "            dividends_data_base.loc[len(dividends_data_base)] = dict_dividend\n",
    "\n",
    "dividends_data_base = dividends_data_base.sort_values(by=\"date\",ignore_index=True)"
   ]
  },
  {
   "cell_type": "code",
   "execution_count": null,
   "metadata": {},
   "outputs": [],
   "source": [
    "import tkinter as tk\n",
    "\n",
    "def on_click():\n",
    "    portfolio_luciane.plot_actual_postion()\n",
    "\n",
    "app = tk.Tk()\n",
    "app.title(\"Simple Tkinter App\")\n",
    "\n",
    "label = tk.Label(app, text=\"Hello, Tkinter!\")\n",
    "label.pack()\n",
    "\n",
    "button = tk.Button(app, text=\"Click Me\", command=on_click)\n",
    "button.pack()\n",
    "\n",
    "app.mainloop()"
   ]
  }
 ],
 "metadata": {
  "kernelspec": {
   "display_name": "Python 3",
   "language": "python",
   "name": "python3"
  },
  "language_info": {
   "codemirror_mode": {
    "name": "ipython",
    "version": 3
   },
   "file_extension": ".py",
   "mimetype": "text/x-python",
   "name": "python",
   "nbconvert_exporter": "python",
   "pygments_lexer": "ipython3",
   "version": "3.12.3"
  }
 },
 "nbformat": 4,
 "nbformat_minor": 2
}
