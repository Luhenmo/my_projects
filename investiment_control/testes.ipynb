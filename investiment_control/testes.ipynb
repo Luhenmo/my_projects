{
 "cells": [
  {
   "cell_type": "code",
   "execution_count": 1,
   "metadata": {},
   "outputs": [],
   "source": [
    "import numpy as np\n",
    "import os\n",
    "import yfinance as yf\n",
    "import pandas as pd\n",
    "from pathlib import Path\n",
    "from classes import Portfolio\n",
    "import matplotlib.pyplot as plt\n",
    "from dateutil.relativedelta import relativedelta\n",
    "from asset_database import DICT_ASSET_INFO\n",
    "from tools import plot_position,plot_earnings_in_last_months,plot_dividends_in_last_months,generate_list_of_dates\n",
    "from historico_tesouro.tresury_history import DICT_TRESURY_HISTORY\n",
    "from transactions import GLOBAL_DATA_BASE\n",
    "\n",
    "current_path = Path.cwd()"
   ]
  },
  {
   "cell_type": "code",
   "execution_count": 2,
   "metadata": {},
   "outputs": [],
   "source": [
    "portfolio_luiz = Portfolio(GLOBAL_DATA_BASE[GLOBAL_DATA_BASE[\"owner\"]==\"Luiz\"].drop(\"owner\",axis=1),\"Luiz\")\n",
    "portfolio_luciane = Portfolio(GLOBAL_DATA_BASE[GLOBAL_DATA_BASE[\"owner\"]==\"Luciane\"].drop(\"owner\",axis=1),\"Luciane\")"
   ]
  },
  {
   "cell_type": "code",
   "execution_count": null,
   "metadata": {},
   "outputs": [],
   "source": [
    "###### ploting positions in last months #####\n",
    "delta_months = 1\n",
    "\n",
    "list_dates = [\n",
    "    pd.Timestamp(2024,pd.Timestamp.today().month,1) - relativedelta(months=delta_months-i-1)\n",
    "    for i in range(delta_months)]\n",
    "\n",
    "for date in list_dates: \n",
    "    plot_position(portfolio_luiz,date)\n",
    "    plot_position(portfolio_luciane,date)"
   ]
  },
  {
   "cell_type": "code",
   "execution_count": null,
   "metadata": {},
   "outputs": [],
   "source": [
    "###### ploting ploting earnings and dividends in last months #####\n",
    "plot_earnings_in_last_months(portfolio_luciane,delta_months=3,save_image=True)\n",
    "plot_dividends_in_last_months(portfolio_luciane,delta_months=3,save_image=True)"
   ]
  },
  {
   "cell_type": "code",
   "execution_count": null,
   "metadata": {},
   "outputs": [],
   "source": [
    "#### plot some colors ####\n",
    "\n",
    "plt.figure()\n",
    "plt.text(0.3,0.3,\"**test**\",bbox=dict(boxstyle=\"round\",fc=(\"tab:red\", 0.5),ec=(\"tab:red\", 1)))\n",
    "plt.text(0.5,0.5,\"**test**\",bbox=dict(boxstyle=\"round\",fc=(\"tab:blue\", 0.5),ec=(\"tab:blue\", 1)))"
   ]
  }
 ],
 "metadata": {
  "kernelspec": {
   "display_name": "Python 3",
   "language": "python",
   "name": "python3"
  },
  "language_info": {
   "codemirror_mode": {
    "name": "ipython",
    "version": 3
   },
   "file_extension": ".py",
   "mimetype": "text/x-python",
   "name": "python",
   "nbconvert_exporter": "python",
   "pygments_lexer": "ipython3",
   "version": "3.12.3"
  }
 },
 "nbformat": 4,
 "nbformat_minor": 2
}
