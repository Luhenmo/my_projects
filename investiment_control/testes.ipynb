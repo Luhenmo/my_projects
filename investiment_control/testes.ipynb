{
 "cells": [
  {
   "cell_type": "code",
   "execution_count": 1,
   "metadata": {},
   "outputs": [],
   "source": [
    "import numpy as np\n",
    "import os\n",
    "import yfinance as yf\n",
    "import pandas as pd\n",
    "from pathlib import Path\n",
    "from classes import Portfolio\n",
    "import matplotlib.pyplot as plt\n",
    "from dateutil.relativedelta import relativedelta\n",
    "from asset_database import DICT_ASSET_INFO\n",
    "from tools import get_value,plot_position,plot_earnings_in_last_months,get_position\n",
    "from historico_tesouro.tresury_history import DICT_TRESURY_HISTORY\n",
    "from transactions import GLOBAL_DATA_BASE\n",
    "\n",
    "current_path = Path.cwd()"
   ]
  },
  {
   "cell_type": "code",
   "execution_count": 2,
   "metadata": {},
   "outputs": [
    {
     "data": {
      "text/plain": [
       "WindowsPath('c:/Users/luizh/Documentos/visual_studio/my_projects/investiment_control')"
      ]
     },
     "execution_count": 2,
     "metadata": {},
     "output_type": "execute_result"
    }
   ],
   "source": [
    "current_path"
   ]
  },
  {
   "cell_type": "code",
   "execution_count": 3,
   "metadata": {},
   "outputs": [],
   "source": [
    "portfolio_luiz = Portfolio(GLOBAL_DATA_BASE[GLOBAL_DATA_BASE[\"owner\"]==\"Luiz\"].drop(\"owner\",axis=1),\"Luiz\")\n",
    "portfolio_luciane = Portfolio(GLOBAL_DATA_BASE[GLOBAL_DATA_BASE[\"owner\"]==\"Luciane\"].drop(\"owner\",axis=1),\"Luciane\")"
   ]
  },
  {
   "cell_type": "code",
   "execution_count": 4,
   "metadata": {},
   "outputs": [],
   "source": [
    "# plot_earnings_in_last_months(portfolio_luiz.data_base,delta_months=4)"
   ]
  },
  {
   "cell_type": "code",
   "execution_count": 5,
   "metadata": {},
   "outputs": [],
   "source": [
    "delta_months = 12\n",
    "\n",
    "list_dates = [\n",
    "    pd.Timestamp(2024,pd.Timestamp.today().month,1) - relativedelta(months=delta_months-i-1)\n",
    "    for i in range(delta_months)]"
   ]
  },
  {
   "cell_type": "code",
   "execution_count": null,
   "metadata": {},
   "outputs": [],
   "source": [
    "for date in list_dates: \n",
    "    plot_position(portfolio_luiz,date,save_image=True)\n",
    "    plot_position(portfolio_luciane,date,save_image=True)"
   ]
  },
  {
   "cell_type": "code",
   "execution_count": null,
   "metadata": {},
   "outputs": [],
   "source": [
    "df = portfolio_luciane.data_base[portfolio_luciane.data_base[\"class\"] != \"Tesouro\"]"
   ]
  },
  {
   "cell_type": "code",
   "execution_count": null,
   "metadata": {},
   "outputs": [],
   "source": [
    "plt.figure()\n",
    "plt.text(0.3,0.3,\"**test**\",bbox=dict(boxstyle=\"round\",fc=(\"tab:red\", 0.5),ec=(\"tab:red\", 1)))\n",
    "plt.text(0.5,0.5,\"**test**\",bbox=dict(boxstyle=\"round\",fc=(\"tab:blue\", 0.5),ec=(\"tab:blue\", 1)))"
   ]
  },
  {
   "cell_type": "code",
   "execution_count": null,
   "metadata": {},
   "outputs": [],
   "source": [
    "dividends_data_base = pd.DataFrame(columns=[\"date\",\"ticker\",\"dividend\",\"amount\",\"total_dividend\"])\n",
    "\n",
    "for ticker in df[\"ticker\"].unique():\n",
    "\n",
    "    dividend_data = yf.Ticker(DICT_ASSET_INFO[ticker].ticker).dividends\n",
    "    for dividend_date,dividend in zip(dividend_data.index,dividend_data):\n",
    "        date = pd.Timestamp(dividend_date.year,dividend_date.month,dividend_date.day)\n",
    "        position_in_date = get_position(\n",
    "            data_base=df,\n",
    "            ticker=ticker,\n",
    "            date=date,\n",
    "        )[1]\n",
    "        if position_in_date > 0:\n",
    "\n",
    "            dict_dividend = {\n",
    "                \"date\":dividend_date,\n",
    "                \"ticker\":ticker,\n",
    "                \"dividend\":dividend,\n",
    "                \"amount\":position_in_date,\n",
    "                \"total_dividend\":position_in_date * dividend,\n",
    "            }\n",
    "\n",
    "            if DICT_ASSET_INFO[ticker].asset_class == \"USD\":\n",
    "\n",
    "                earlier = date - pd.Timedelta(days=7)\n",
    "                usd_brl = yf.Ticker(\"BRL%3DX\").history(start=earlier,end=date)[[\"Close\"]]\n",
    "                usd_brl = usd_brl.sort_index(ascending=False).iloc[0].values[0]\n",
    "                dict_dividend[\"dividend\"] = dict_dividend[\"dividend\"] * usd_brl\n",
    "                dict_dividend[\"total_dividend\"] = dict_dividend[\"total_dividend\"] * usd_brl\n",
    "\n",
    "            dividends_data_base.loc[len(dividends_data_base)] = dict_dividend\n",
    "\n",
    "dividends_data_base = dividends_data_base.sort_values(by=\"date\",ignore_index=True)"
   ]
  },
  {
   "cell_type": "code",
   "execution_count": null,
   "metadata": {},
   "outputs": [],
   "source": [
    "delta_months = 12\n",
    "\n",
    "list_dates = [\n",
    "    pd.Timestamp(2024,pd.Timestamp.today().month,1,tz='America/Sao_Paulo') - relativedelta(months=delta_months-i-1) - pd.Timedelta(days=1)\n",
    "    for i in range(delta_months)]\n",
    "list_dates.append(pd.Timestamp.today(tz='America/Sao_Paulo'))"
   ]
  },
  {
   "cell_type": "code",
   "execution_count": null,
   "metadata": {},
   "outputs": [],
   "source": [
    "month_names = {\n",
    "    1:'Jan', \n",
    "    2:'Feb', \n",
    "    3:'Mar', \n",
    "    4:'Apr', \n",
    "    5:'May', \n",
    "    6:'Jun', \n",
    "    7:'Jul', \n",
    "    8:'Aug', \n",
    "    9:'Sep', \n",
    "    10:'Oct', \n",
    "    11:'Nov', \n",
    "    12:'Dec',\n",
    "}\n",
    "\n",
    "x = np.arange(len(list_dates)-1)\n",
    "\n",
    "# Create the plot\n",
    "fig, ax = plt.subplots()\n",
    "\n",
    "bars = ax.bar(\n",
    "    [month_names[list_dates[i+1].month] for i in range(len(list_dates)-1)],\n",
    "    [dividends_data_base[\n",
    "        (dividends_data_base[\"date\"] > list_dates[i]) & \n",
    "        (dividends_data_base[\"date\"] <= list_dates[i+1])\n",
    "    ][\"total_dividend\"].sum() for i in range(len(list_dates)-1)], \n",
    "    # color=[class_colors[_class] for x in earnings_per_month],\n",
    "    # label=f\"{_class}\"\n",
    ")\n",
    "\n",
    "# Draw a central line at y=0\n",
    "ax.axhline(0, color='black', linewidth=0.8)\n",
    "\n",
    "# Add labels and title\n",
    "# ax.set_xticks(x + bar_width * (len(class_colors) - 1) / 2)\n",
    "# ax.set_xticklabels([month_names[list_dates[i+1].month] for i in range(len(list_dates)-1)])\n",
    "ax.set_ylabel('Earnings/Losses (BRL)')\n",
    "ax.set_xlabel('Month')\n",
    "ax.set_title(f'Monthly changes in the last {delta_months} months')\n",
    "ax.legend()\n",
    "ax.grid(True, which='both', linestyle='--', linewidth=0.5)\n",
    "\n",
    "# Show the plot\n",
    "plt.show()"
   ]
  },
  {
   "cell_type": "code",
   "execution_count": null,
   "metadata": {},
   "outputs": [],
   "source": [
    "[month_names[list_dates[i+1].month] for i in range(len(list_dates)-1)]"
   ]
  },
  {
   "cell_type": "code",
   "execution_count": null,
   "metadata": {},
   "outputs": [],
   "source": [
    "list_dates[0].tzinfo = \n",
    "\n",
    "dividends_data_base[\"date\"] < pd.Timestamp(list_dates[0],tzinfo=datetime(list_dates[0] tzinfo='America/Sao_Paulo'))"
   ]
  },
  {
   "cell_type": "code",
   "execution_count": null,
   "metadata": {},
   "outputs": [],
   "source": [
    "dividends_data_base[\"date\"].loc[0]"
   ]
  },
  {
   "cell_type": "code",
   "execution_count": null,
   "metadata": {},
   "outputs": [],
   "source": [
    "delta_months = 6\n",
    "\n",
    "list_dates = [\n",
    "    datetime(2024,datetime.today().month,1) - relativedelta(months=delta_months-i-1)\n",
    "    for i in range(delta_months)]\n",
    "\n",
    "class_colors = {\n",
    "    \"total\":\"y\",\n",
    "    'USD':'r',\n",
    "    'Tesouro':'g',\n",
    "    'Ação': 'b',\n",
    "    'FII': 'm',\n",
    "}\n",
    "\n",
    "month_names = {\n",
    "    1:'Jan', \n",
    "    2:'Feb', \n",
    "    3:'Mar', \n",
    "    4:'Apr', \n",
    "    5:'May', \n",
    "    6:'Jun', \n",
    "    7:'Jul', \n",
    "    8:'Aug', \n",
    "    9:'Sep', \n",
    "    10:'Oct', \n",
    "    11:'Nov', \n",
    "    12:'Dec',\n",
    "}\n",
    "\n",
    "# bar_width = 0.18\n",
    "x = np.arange(len(list_dates))\n",
    "\n",
    "# Create the plot\n",
    "fig, ax = plt.subplots()\n",
    "\n",
    "for i,_class in enumerate(class_colors.keys()):\n",
    "    if _class == \"total\":\n",
    "        total_per_month = [dict_positions[date][\"Total price\"].sum() for date in dict_positions.keys()]     \n",
    "        earnings_per_month = [total_per_month[i+1] - total_per_month[i] for i in range(len(total_per_month)-1)]\n",
    "    else:\n",
    "        total_per_month = [dict_positions[date][dict_positions[date][\"Class\"] == _class][\"Total price\"].sum() for date in dict_positions.keys()] \n",
    "        earnings_per_month = [total_per_month[i+1] - total_per_month[i] for i in range(len(total_per_month)-1)]\n",
    "\n",
    "    bars = ax.bar(\n",
    "        x + i * bar_width,\n",
    "        earnings_per_month, \n",
    "        color=[class_colors[_class] for x in earnings_per_month],\n",
    "        width=bar_width,\n",
    "        label=f\"{_class}\"\n",
    "    )\n",
    "\n",
    "    # Draw a central line at y=0\n",
    "    ax.axhline(0, color='black', linewidth=0.8)\n",
    "\n",
    "    # Add labels and title\n",
    "    ax.set_xticks(x + bar_width * (len(class_colors) - 1) / 2)\n",
    "    ax.set_xticklabels([month_names[month_num.month] for month_num in list_dates])\n",
    "    ax.set_ylabel('Earnings/Losses (BRL)')\n",
    "    ax.set_xlabel('Month')\n",
    "    ax.set_title(f'Monthly changes in the last {delta_months} months')\n",
    "    ax.legend()\n",
    "    ax.grid(True, which='both', linestyle='--', linewidth=0.5)\n",
    "\n",
    "    # Show the plot\n",
    "    plt.show()"
   ]
  },
  {
   "cell_type": "code",
   "execution_count": null,
   "metadata": {},
   "outputs": [],
   "source": [
    "import matplotlib.pyplot as plt\n",
    "\n",
    "# Example data\n",
    "months = ['January', 'February', 'March', 'April', 'May', 'June',\n",
    "          'July', 'August', 'September', 'October', 'November', 'December']\n",
    "dividends = [120, 150, 90, 200, 180, 170, 190, 160, 210, 230, 220, 250]\n",
    "\n",
    "# Create a bar chart\n",
    "ax = plt.subplot()\n",
    "# ax.figure()\n",
    "ax.bar(months, dividends, color='skyblue')\n",
    "\n",
    "# Add titles and labels\n",
    "ax.set_title('Monthly Dividends Received')\n",
    "ax.set_xlabel('Month')\n",
    "ax.set_ylabel('Dividends ($)')\n",
    "ax.set_figure(figsize=(10, 6))\n",
    "# ax.xtiks(  rotation=45)  # Rotate month labels for better readability\n",
    "\n",
    "# Show the plot\n",
    "# ax.set_tight_layout()  # Adjust layout to make room for the rotated labels\n",
    "plt.show()"
   ]
  },
  {
   "cell_type": "code",
   "execution_count": null,
   "metadata": {},
   "outputs": [],
   "source": [
    "import tkinter as tk\n",
    "\n",
    "def on_click():\n",
    "    portfolio_luciane.plot_actual_postion()\n",
    "\n",
    "app = tk.Tk()\n",
    "app.title(\"Simple Tkinter App\")\n",
    "\n",
    "label = tk.Label(app, text=\"Hello, Tkinter!\")\n",
    "label.pack()\n",
    "\n",
    "button = tk.Button(app, text=\"Click Me\", command=on_click)\n",
    "button.pack()\n",
    "\n",
    "app.mainloop()"
   ]
  }
 ],
 "metadata": {
  "kernelspec": {
   "display_name": "Python 3",
   "language": "python",
   "name": "python3"
  },
  "language_info": {
   "codemirror_mode": {
    "name": "ipython",
    "version": 3
   },
   "file_extension": ".py",
   "mimetype": "text/x-python",
   "name": "python",
   "nbconvert_exporter": "python",
   "pygments_lexer": "ipython3",
   "version": "3.12.3"
  }
 },
 "nbformat": 4,
 "nbformat_minor": 2
}
