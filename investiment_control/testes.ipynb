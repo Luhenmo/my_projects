{
 "cells": [
  {
   "cell_type": "code",
   "execution_count": 1,
   "metadata": {},
   "outputs": [],
   "source": [
    "import numpy as np\n",
    "import pandas as pd\n",
    "from pathlib import Path\n",
    "# from classes import Portfolio\n",
    "import matplotlib.pyplot as plt\n",
    "from dateutil.relativedelta import relativedelta\n",
    "from asset_database import DICT_ASSET_INFO\n",
    "from tools import plot_position_graph,plot_position_table,plot_earnings_in_last_months,plot_dividends_in_last_months,generate_list_of_dates\n",
    "from historico_tesouro.tresury_history import DICT_TRESURY_HISTORY\n",
    "from data_base import GLOBAL_DATA_BASE\n",
    "\n",
    "current_path = Path.cwd()"
   ]
  },
  {
   "cell_type": "code",
   "execution_count": 2,
   "metadata": {},
   "outputs": [
    {
     "data": {
      "text/html": [
       "<div>\n",
       "<style scoped>\n",
       "    .dataframe tbody tr th:only-of-type {\n",
       "        vertical-align: middle;\n",
       "    }\n",
       "\n",
       "    .dataframe tbody tr th {\n",
       "        vertical-align: top;\n",
       "    }\n",
       "\n",
       "    .dataframe thead th {\n",
       "        text-align: right;\n",
       "    }\n",
       "</style>\n",
       "<table border=\"1\" class=\"dataframe\">\n",
       "  <thead>\n",
       "    <tr style=\"text-align: right;\">\n",
       "      <th></th>\n",
       "      <th>owner</th>\n",
       "      <th>date</th>\n",
       "      <th>ticker</th>\n",
       "      <th>buy</th>\n",
       "      <th>price</th>\n",
       "      <th>amount</th>\n",
       "      <th>curency</th>\n",
       "    </tr>\n",
       "  </thead>\n",
       "  <tbody>\n",
       "    <tr>\n",
       "      <th>0</th>\n",
       "      <td>Luiz</td>\n",
       "      <td>2024-08-07</td>\n",
       "      <td>ITSA4</td>\n",
       "      <td>True</td>\n",
       "      <td>9.96</td>\n",
       "      <td>19.0</td>\n",
       "      <td>BRL</td>\n",
       "    </tr>\n",
       "    <tr>\n",
       "      <th>1</th>\n",
       "      <td>Luiz</td>\n",
       "      <td>2024-08-07</td>\n",
       "      <td>RAIZ4</td>\n",
       "      <td>True</td>\n",
       "      <td>3.06</td>\n",
       "      <td>66.0</td>\n",
       "      <td>BRL</td>\n",
       "    </tr>\n",
       "    <tr>\n",
       "      <th>2</th>\n",
       "      <td>Luiz</td>\n",
       "      <td>2024-08-07</td>\n",
       "      <td>BBAS3</td>\n",
       "      <td>True</td>\n",
       "      <td>26.43</td>\n",
       "      <td>8.0</td>\n",
       "      <td>BRL</td>\n",
       "    </tr>\n",
       "    <tr>\n",
       "      <th>3</th>\n",
       "      <td>Luiz</td>\n",
       "      <td>2024-08-07</td>\n",
       "      <td>CSMG3</td>\n",
       "      <td>True</td>\n",
       "      <td>21.79</td>\n",
       "      <td>14.0</td>\n",
       "      <td>BRL</td>\n",
       "    </tr>\n",
       "    <tr>\n",
       "      <th>4</th>\n",
       "      <td>Luiz</td>\n",
       "      <td>2024-08-07</td>\n",
       "      <td>ICRI11</td>\n",
       "      <td>True</td>\n",
       "      <td>97.19</td>\n",
       "      <td>9.0</td>\n",
       "      <td>BRL</td>\n",
       "    </tr>\n",
       "    <tr>\n",
       "      <th>...</th>\n",
       "      <td>...</td>\n",
       "      <td>...</td>\n",
       "      <td>...</td>\n",
       "      <td>...</td>\n",
       "      <td>...</td>\n",
       "      <td>...</td>\n",
       "      <td>...</td>\n",
       "    </tr>\n",
       "    <tr>\n",
       "      <th>423</th>\n",
       "      <td>Luiz</td>\n",
       "      <td>2020-12-11</td>\n",
       "      <td>SPXI11</td>\n",
       "      <td>True</td>\n",
       "      <td>195.89</td>\n",
       "      <td>1.0</td>\n",
       "      <td>BRL</td>\n",
       "    </tr>\n",
       "    <tr>\n",
       "      <th>424</th>\n",
       "      <td>Luiz</td>\n",
       "      <td>2020-12-04</td>\n",
       "      <td>SPXI11</td>\n",
       "      <td>True</td>\n",
       "      <td>201.92</td>\n",
       "      <td>1.0</td>\n",
       "      <td>BRL</td>\n",
       "    </tr>\n",
       "    <tr>\n",
       "      <th>425</th>\n",
       "      <td>Luiz</td>\n",
       "      <td>2020-11-25</td>\n",
       "      <td>SPXI11</td>\n",
       "      <td>True</td>\n",
       "      <td>204.60</td>\n",
       "      <td>1.0</td>\n",
       "      <td>BRL</td>\n",
       "    </tr>\n",
       "    <tr>\n",
       "      <th>426</th>\n",
       "      <td>Luiz</td>\n",
       "      <td>2020-11-18</td>\n",
       "      <td>SPXI11</td>\n",
       "      <td>True</td>\n",
       "      <td>202.65</td>\n",
       "      <td>1.0</td>\n",
       "      <td>BRL</td>\n",
       "    </tr>\n",
       "    <tr>\n",
       "      <th>427</th>\n",
       "      <td>Luiz</td>\n",
       "      <td>2020-11-10</td>\n",
       "      <td>SPXI11</td>\n",
       "      <td>True</td>\n",
       "      <td>202.19</td>\n",
       "      <td>1.0</td>\n",
       "      <td>BRL</td>\n",
       "    </tr>\n",
       "  </tbody>\n",
       "</table>\n",
       "<p>428 rows × 7 columns</p>\n",
       "</div>"
      ],
      "text/plain": [
       "    owner       date  ticker   buy   price  amount curency\n",
       "0    Luiz 2024-08-07   ITSA4  True    9.96    19.0     BRL\n",
       "1    Luiz 2024-08-07   RAIZ4  True    3.06    66.0     BRL\n",
       "2    Luiz 2024-08-07   BBAS3  True   26.43     8.0     BRL\n",
       "3    Luiz 2024-08-07   CSMG3  True   21.79    14.0     BRL\n",
       "4    Luiz 2024-08-07  ICRI11  True   97.19     9.0     BRL\n",
       "..    ...        ...     ...   ...     ...     ...     ...\n",
       "423  Luiz 2020-12-11  SPXI11  True  195.89     1.0     BRL\n",
       "424  Luiz 2020-12-04  SPXI11  True  201.92     1.0     BRL\n",
       "425  Luiz 2020-11-25  SPXI11  True  204.60     1.0     BRL\n",
       "426  Luiz 2020-11-18  SPXI11  True  202.65     1.0     BRL\n",
       "427  Luiz 2020-11-10  SPXI11  True  202.19     1.0     BRL\n",
       "\n",
       "[428 rows x 7 columns]"
      ]
     },
     "execution_count": 2,
     "metadata": {},
     "output_type": "execute_result"
    }
   ],
   "source": [
    "GLOBAL_DATA_BASE"
   ]
  },
  {
   "cell_type": "code",
   "execution_count": null,
   "metadata": {},
   "outputs": [],
   "source": [
    "portfolio_luiz = Portfolio(GLOBAL_DATA_BASE[GLOBAL_DATA_BASE[\"owner\"]==\"Luiz\"].drop(\"owner\",axis=1),\"Luiz\")\n",
    "portfolio_luciane = Portfolio(GLOBAL_DATA_BASE[GLOBAL_DATA_BASE[\"owner\"]==\"Luciane\"].drop(\"owner\",axis=1),\"Luciane\")"
   ]
  },
  {
   "cell_type": "code",
   "execution_count": null,
   "metadata": {},
   "outputs": [],
   "source": [
    "GLOBAL_DATA_BASE"
   ]
  },
  {
   "cell_type": "code",
   "execution_count": null,
   "metadata": {},
   "outputs": [],
   "source": [
    "owner=\"Luiz\"\n",
    "date=pd.Timestamp(2024,8,7)\n",
    "ticker=[\"ITSA4\",\"RAIZ4\",\"CSMG3\",\"ICRI11\",\"HGRE11\"]\n",
    "buy=[True,True,True,True,True]\n",
    "price=[9.96,3.06,26.43,21.79,97.19,113.84]\n",
    "amount=[19,66,8,14,9,8]\n",
    "data_base = GLOBAL_DATA_BASE"
   ]
  },
  {
   "cell_type": "code",
   "execution_count": null,
   "metadata": {},
   "outputs": [],
   "source": [
    "4*[\"Luiz\"]"
   ]
  },
  {
   "cell_type": "code",
   "execution_count": null,
   "metadata": {},
   "outputs": [],
   "source": [
    "for i,ticker in enumerate(ticker):\n",
    "    data_base"
   ]
  },
  {
   "cell_type": "code",
   "execution_count": null,
   "metadata": {},
   "outputs": [],
   "source": [
    "import pandas as pd\n",
    "\n",
    "# Sample DataFrame\n",
    "data = {'A': [1, 2, 3, 4], 'B': [5, 6, 7, 8]}\n",
    "df = pd.DataFrame(data)\n",
    "print(\"Original DataFrame:\")\n",
    "print(df)\n",
    "\n",
    "# Step 1: Retrieve the current index\n",
    "current_index = df.index\n",
    "\n",
    "# Step 2: Sort the index in decreasing order\n",
    "sorted_index = sorted(current_index, reverse=True)\n",
    "\n",
    "# Step 3: Reindex the DataFrame with the sorted index\n",
    "df_reindexed = df.reindex(sorted_index)\n",
    "\n",
    "print(\"\\nDataFrame with index in decreasing order:\")\n",
    "print(df_reindexed)"
   ]
  },
  {
   "cell_type": "code",
   "execution_count": null,
   "metadata": {},
   "outputs": [],
   "source": [
    "import pandas as pd\n",
    "\n",
    "# Original DataFrame\n",
    "data = {'A': [2, 3, 4], 'B': [6, 7, 8]}\n",
    "df = pd.DataFrame(data)\n",
    "print(\"Original DataFrame:\")\n",
    "print(df)\n",
    "\n",
    "# New row to be added\n",
    "new_row = pd.DataFrame({'A': [1], 'B': [5]})\n",
    "print(\"\\nNew row to be added:\")\n",
    "print(new_row)\n",
    "\n",
    "# Step 2: Concatenate the new row with the original DataFrame\n",
    "df_with_new_row = pd.concat([new_row, df], ignore_index=True)\n",
    "print(\"\\nDataFrame with the new first line:\")\n",
    "print(df_with_new_row)"
   ]
  },
  {
   "cell_type": "code",
   "execution_count": null,
   "metadata": {},
   "outputs": [],
   "source": [
    "plot_position_graph(portfolio_luiz)\n",
    "plot_position_table(portfolio_luiz)"
   ]
  },
  {
   "cell_type": "code",
   "execution_count": null,
   "metadata": {},
   "outputs": [],
   "source": [
    "plot_position_graph(portfolio_luciane)\n",
    "plot_position_table(portfolio_luciane)"
   ]
  },
  {
   "cell_type": "code",
   "execution_count": null,
   "metadata": {},
   "outputs": [],
   "source": [
    "\n"
   ]
  },
  {
   "cell_type": "code",
   "execution_count": null,
   "metadata": {},
   "outputs": [],
   "source": []
  },
  {
   "cell_type": "code",
   "execution_count": null,
   "metadata": {},
   "outputs": [],
   "source": [
    "###### ploting ploting earnings and dividends in last months #####\n",
    "plot_earnings_in_last_months(portfolio_luciane,delta_months=3)\n",
    "plot_dividends_in_last_months(portfolio_luciane,delta_months=3)\n",
    "plot_earnings_in_last_months(portfolio_luciane,delta_months=3)\n",
    "plot_dividends_in_last_months(portfolio_luciane,delta_months=3)"
   ]
  }
 ],
 "metadata": {
  "kernelspec": {
   "display_name": "Python 3",
   "language": "python",
   "name": "python3"
  },
  "language_info": {
   "codemirror_mode": {
    "name": "ipython",
    "version": 3
   },
   "file_extension": ".py",
   "mimetype": "text/x-python",
   "name": "python",
   "nbconvert_exporter": "python",
   "pygments_lexer": "ipython3",
   "version": "3.12.3"
  }
 },
 "nbformat": 4,
 "nbformat_minor": 2
}
