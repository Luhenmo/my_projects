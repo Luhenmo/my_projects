{
 "cells": [
  {
   "cell_type": "code",
   "execution_count": 30,
   "metadata": {},
   "outputs": [],
   "source": [
    "import pyvista as pv\n",
    "from dataclasses import dataclass\n",
    "import pandas as pd\n",
    "import numpy as np"
   ]
  },
  {
   "cell_type": "code",
   "execution_count": 31,
   "metadata": {},
   "outputs": [],
   "source": [
    "@dataclass\n",
    "class planet():\n",
    "    name:str\n",
    "    initial_position:np.array\n",
    "    initial_velocity:np.array\n",
    "    mass:int\n",
    "    "
   ]
  },
  {
   "cell_type": "code",
   "execution_count": 32,
   "metadata": {},
   "outputs": [],
   "source": [
    "terra = planet(\n",
    "    name=\"Terra\",\n",
    "    initial_position=np.array([0,0,0]),\n",
    "    initial_velocity=np.array([0,0,0]),\n",
    "    mass=6e24,\n",
    ")\n",
    "\n",
    "lua = planet(\n",
    "    name=\"Lua\",\n",
    "    initial_position=np.array([380e6,0,0]),\n",
    "    initial_velocity=np.array([0,0.7*1026.234814619365,0]),\n",
    "    mass=7e22,\n",
    ")\n",
    "\n",
    "planets_list = [terra,lua]"
   ]
  },
  {
   "cell_type": "code",
   "execution_count": 33,
   "metadata": {},
   "outputs": [],
   "source": [
    "tf = 14*24 #horas\n",
    "time_step = 6*60 #secs\n",
    "time_vector = np.arange(0,tf*60*60+time_step,time_step)\n",
    "\n",
    "\n",
    "def compute_aceleration_vector(body_position,body_mass,list_other_bodies_positions,list_other_bodies_masses):\n",
    "    G = 6.67*10**(-11) # Nm2/kg2\n",
    "\n",
    "    force_vector = np.zeros(3)\n",
    "\n",
    "    for other_body_position,other_body_mass in zip(list_other_bodies_positions,list_other_bodies_masses):\n",
    "        vector_r = other_body_position-body_position\n",
    "        force_vector += G*body_mass*other_body_mass/np.abs(np.sum(vector_r**3))*vector_r\n",
    "\n",
    "    aceleration = force_vector/body_mass\n",
    "    \n",
    "    return aceleration\n",
    "\n",
    "dict_planets_history = {}\n",
    "for planet in planets_list:\n",
    "    df = pd.DataFrame(columns=[\"time\",\"position\",\"velocity\"])\n",
    "    df = df.set_index(\"time\")\n",
    "    df.loc[time_vector[0]] = {\n",
    "        \"position\":planet.initial_position,\n",
    "        \"velocity\":planet.initial_velocity,\n",
    "    }\n",
    "    dict_planets_history.update({planet.name:df})\n",
    "\n",
    "for time in time_vector:\n",
    "    for planet in planets_list:\n",
    "        aceleration = compute_aceleration_vector(\n",
    "            body_position=dict_planets_history[planet.name].loc[time,\"position\"],\n",
    "            body_mass=planet.mass,\n",
    "            list_other_bodies_positions = [\n",
    "                other_planet_df.loc[time,\"position\"] \n",
    "                for other_planet_name,other_planet_df \n",
    "                in dict_planets_history.items() \n",
    "                if other_planet_name != planet.name\n",
    "            ],\n",
    "            list_other_bodies_masses = [\n",
    "               other_planet.mass for other_planet in planets_list if other_planet != planet\n",
    "            ],\n",
    "        )\n",
    "\n",
    "        velocity = dict_planets_history[planet.name].loc[time,\"velocity\"]\n",
    "        position = dict_planets_history[planet.name].loc[time,\"position\"]\n",
    "\n",
    "        new_velocity = velocity + time_step * aceleration\n",
    "        new_position = position + time_step * (new_velocity+velocity)/2\n",
    "\n",
    "        dict_planets_history[planet.name].loc[time+time_step] = {\n",
    "            \"position\":new_position,\n",
    "            \"velocity\":new_velocity,\n",
    "        }\n"
   ]
  },
  {
   "cell_type": "code",
   "execution_count": 34,
   "metadata": {},
   "outputs": [],
   "source": [
    "filename = \"two_body.mp4\"\n",
    "\n",
    "raio_terra = 5*6370e3 #m\n",
    "raio_lua = 5*1735e3 #m\n",
    "\n",
    "mesh_terra_initial = pv.Sphere(radius=raio_terra)\n",
    "mesh_terra = pv.Sphere(radius=raio_terra)\n",
    "mesh_lua_initial = pv.Sphere(radius=raio_lua)\n",
    "mesh_lua = pv.Sphere(radius=raio_lua)"
   ]
  },
  {
   "cell_type": "code",
   "execution_count": 35,
   "metadata": {},
   "outputs": [],
   "source": [
    "cena = pv.Plotter()\n",
    "cena.open_movie(filename)\n",
    "cena.add_mesh(mesh_terra,scalars=None)\n",
    "cena.add_mesh(mesh_lua,scalars=None)\n",
    "# cena.show(auto_close=False)  \n",
    "cena.camera.focal_point = (0, 0, 0)\n",
    "cena.camera.position = (1.5*380e6, 1.5*380e6, 1.5*380e6)\n",
    "cena.camera.zoom(0.8)\n",
    "cena.camera.clipping_range = (1.5*380e6/2, 1.5*2*380e6)\n",
    "\n",
    "number_of_frames = 101\n",
    "for simulation_slice in np.linspace(0,1,number_of_frames):\n",
    "\n",
    "    iloc = int(simulation_slice * (len(time_vector)))\n",
    "    mesh_terra.points = mesh_terra_initial.points + dict_planets_history[\"Terra\"].iloc[iloc][\"position\"]\n",
    "    mesh_lua.points = mesh_lua_initial.points + dict_planets_history[\"Lua\"].iloc[iloc][\"position\"]\n",
    "    # cena.reset_camera()\n",
    "    cena.add_text(f\"Time: {dict_planets_history[\"Terra\"].iloc[iloc].name//3600}h\", name='time-label')\n",
    "    cena.write_frame()  # Write this frame\n",
    "\n",
    "cena.close()"
   ]
  }
 ],
 "metadata": {
  "kernelspec": {
   "display_name": "Python 3",
   "language": "python",
   "name": "python3"
  },
  "language_info": {
   "codemirror_mode": {
    "name": "ipython",
    "version": 3
   },
   "file_extension": ".py",
   "mimetype": "text/x-python",
   "name": "python",
   "nbconvert_exporter": "python",
   "pygments_lexer": "ipython3",
   "version": "3.12.3"
  }
 },
 "nbformat": 4,
 "nbformat_minor": 2
}
