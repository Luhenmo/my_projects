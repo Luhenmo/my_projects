{
 "cells": [
  {
   "cell_type": "code",
   "execution_count": 1,
   "metadata": {},
   "outputs": [],
   "source": [
    "import pyvista as pv\n",
    "from dataclasses import dataclass\n",
    "import pandas as pd\n",
    "import numpy as np"
   ]
  },
  {
   "cell_type": "code",
   "execution_count": 2,
   "metadata": {},
   "outputs": [],
   "source": [
    "@dataclass\n",
    "class planet():\n",
    "    name:str\n",
    "    initial_position:np.array\n",
    "    initial_velocity:np.array\n",
    "    mass:int\n",
    "    "
   ]
  },
  {
   "cell_type": "code",
   "execution_count": 3,
   "metadata": {},
   "outputs": [],
   "source": [
    "terra = planet(\n",
    "    name=\"Terra\",\n",
    "    initial_position=np.array([0,0,0]),\n",
    "    initial_velocity=np.array([0,0,0]),\n",
    "    mass=6e24,\n",
    ")\n",
    "\n",
    "lua = planet(\n",
    "    name=\"Lua\",\n",
    "    initial_position=np.array([380e6,0,0]),\n",
    "    initial_velocity=np.array([0,0,0]),\n",
    "    mass=7e22,\n",
    ")\n",
    "\n",
    "planets_list = [terra,lua]"
   ]
  },
  {
   "cell_type": "code",
   "execution_count": 22,
   "metadata": {},
   "outputs": [
    {
     "ename": "KeyError",
     "evalue": "60.0",
     "output_type": "error",
     "traceback": [
      "\u001b[1;31m---------------------------------------------------------------------------\u001b[0m",
      "\u001b[1;31mKeyError\u001b[0m                                  Traceback (most recent call last)",
      "File \u001b[1;32m~\\AppData\\Roaming\\Python\\Python312\\site-packages\\pandas\\core\\indexes\\base.py:3805\u001b[0m, in \u001b[0;36mIndex.get_loc\u001b[1;34m(self, key)\u001b[0m\n\u001b[0;32m   3804\u001b[0m \u001b[38;5;28;01mtry\u001b[39;00m:\n\u001b[1;32m-> 3805\u001b[0m     \u001b[38;5;28;01mreturn\u001b[39;00m \u001b[38;5;28;43mself\u001b[39;49m\u001b[38;5;241;43m.\u001b[39;49m\u001b[43m_engine\u001b[49m\u001b[38;5;241;43m.\u001b[39;49m\u001b[43mget_loc\u001b[49m\u001b[43m(\u001b[49m\u001b[43mcasted_key\u001b[49m\u001b[43m)\u001b[49m\n\u001b[0;32m   3806\u001b[0m \u001b[38;5;28;01mexcept\u001b[39;00m \u001b[38;5;167;01mKeyError\u001b[39;00m \u001b[38;5;28;01mas\u001b[39;00m err:\n",
      "File \u001b[1;32mindex.pyx:167\u001b[0m, in \u001b[0;36mpandas._libs.index.IndexEngine.get_loc\u001b[1;34m()\u001b[0m\n",
      "File \u001b[1;32mindex.pyx:196\u001b[0m, in \u001b[0;36mpandas._libs.index.IndexEngine.get_loc\u001b[1;34m()\u001b[0m\n",
      "File \u001b[1;32mpandas\\\\_libs\\\\hashtable_class_helper.pxi:1698\u001b[0m, in \u001b[0;36mpandas._libs.hashtable.Float64HashTable.get_item\u001b[1;34m()\u001b[0m\n",
      "File \u001b[1;32mpandas\\\\_libs\\\\hashtable_class_helper.pxi:1722\u001b[0m, in \u001b[0;36mpandas._libs.hashtable.Float64HashTable.get_item\u001b[1;34m()\u001b[0m\n",
      "\u001b[1;31mKeyError\u001b[0m: 60.0",
      "\nThe above exception was the direct cause of the following exception:\n",
      "\u001b[1;31mKeyError\u001b[0m                                  Traceback (most recent call last)",
      "Cell \u001b[1;32mIn[22], line 33\u001b[0m\n\u001b[0;32m     30\u001b[0m \u001b[38;5;28;01mfor\u001b[39;00m time \u001b[38;5;129;01min\u001b[39;00m time_vector:\n\u001b[0;32m     31\u001b[0m     \u001b[38;5;28;01mfor\u001b[39;00m planet \u001b[38;5;129;01min\u001b[39;00m planets_list:\n\u001b[0;32m     32\u001b[0m         aceleration \u001b[38;5;241m=\u001b[39m compute_aceleration_vector(\n\u001b[1;32m---> 33\u001b[0m             body_position\u001b[38;5;241m=\u001b[39m\u001b[43mdict_planets_history\u001b[49m\u001b[43m[\u001b[49m\u001b[43mplanet\u001b[49m\u001b[38;5;241;43m.\u001b[39;49m\u001b[43mname\u001b[49m\u001b[43m]\u001b[49m\u001b[38;5;241;43m.\u001b[39;49m\u001b[43mloc\u001b[49m\u001b[43m[\u001b[49m\u001b[43mtime\u001b[49m\u001b[43m,\u001b[49m\u001b[38;5;124;43m\"\u001b[39;49m\u001b[38;5;124;43mposition\u001b[39;49m\u001b[38;5;124;43m\"\u001b[39;49m\u001b[43m]\u001b[49m,\n\u001b[0;32m     34\u001b[0m             body_mass\u001b[38;5;241m=\u001b[39mplanet\u001b[38;5;241m.\u001b[39mmass,\n\u001b[0;32m     35\u001b[0m             list_other_bodies_positions \u001b[38;5;241m=\u001b[39m [\n\u001b[0;32m     36\u001b[0m                 other_planet_df\u001b[38;5;241m.\u001b[39mloc[time,\u001b[38;5;124m\"\u001b[39m\u001b[38;5;124mposition\u001b[39m\u001b[38;5;124m\"\u001b[39m] \n\u001b[0;32m     37\u001b[0m                 \u001b[38;5;28;01mfor\u001b[39;00m other_planet_name,other_planet_df \n\u001b[0;32m     38\u001b[0m                 \u001b[38;5;129;01min\u001b[39;00m dict_planets_history\u001b[38;5;241m.\u001b[39mitems() \n\u001b[0;32m     39\u001b[0m                 \u001b[38;5;28;01mif\u001b[39;00m other_planet_name \u001b[38;5;241m!=\u001b[39m planet\u001b[38;5;241m.\u001b[39mname\n\u001b[0;32m     40\u001b[0m             ],\n\u001b[0;32m     41\u001b[0m             list_other_bodies_masses \u001b[38;5;241m=\u001b[39m [\n\u001b[0;32m     42\u001b[0m                other_planet\u001b[38;5;241m.\u001b[39mmass \u001b[38;5;28;01mfor\u001b[39;00m other_planet \u001b[38;5;129;01min\u001b[39;00m planets_list \u001b[38;5;28;01mif\u001b[39;00m other_planet \u001b[38;5;241m!=\u001b[39m planet\n\u001b[0;32m     43\u001b[0m             ],\n\u001b[0;32m     44\u001b[0m         )\n\u001b[0;32m     46\u001b[0m         velocity \u001b[38;5;241m=\u001b[39m dict_planets_history[planet\u001b[38;5;241m.\u001b[39mname]\u001b[38;5;241m.\u001b[39mloc[time,\u001b[38;5;124m\"\u001b[39m\u001b[38;5;124mvelocity\u001b[39m\u001b[38;5;124m\"\u001b[39m]\n\u001b[0;32m     47\u001b[0m         position \u001b[38;5;241m=\u001b[39m dict_planets_history[planet\u001b[38;5;241m.\u001b[39mname]\u001b[38;5;241m.\u001b[39mloc[time,\u001b[38;5;124m\"\u001b[39m\u001b[38;5;124mposition\u001b[39m\u001b[38;5;124m\"\u001b[39m]\n",
      "File \u001b[1;32m~\\AppData\\Roaming\\Python\\Python312\\site-packages\\pandas\\core\\indexing.py:1183\u001b[0m, in \u001b[0;36m_LocationIndexer.__getitem__\u001b[1;34m(self, key)\u001b[0m\n\u001b[0;32m   1181\u001b[0m     key \u001b[38;5;241m=\u001b[39m \u001b[38;5;28mtuple\u001b[39m(com\u001b[38;5;241m.\u001b[39mapply_if_callable(x, \u001b[38;5;28mself\u001b[39m\u001b[38;5;241m.\u001b[39mobj) \u001b[38;5;28;01mfor\u001b[39;00m x \u001b[38;5;129;01min\u001b[39;00m key)\n\u001b[0;32m   1182\u001b[0m     \u001b[38;5;28;01mif\u001b[39;00m \u001b[38;5;28mself\u001b[39m\u001b[38;5;241m.\u001b[39m_is_scalar_access(key):\n\u001b[1;32m-> 1183\u001b[0m         \u001b[38;5;28;01mreturn\u001b[39;00m \u001b[38;5;28;43mself\u001b[39;49m\u001b[38;5;241;43m.\u001b[39;49m\u001b[43mobj\u001b[49m\u001b[38;5;241;43m.\u001b[39;49m\u001b[43m_get_value\u001b[49m\u001b[43m(\u001b[49m\u001b[38;5;241;43m*\u001b[39;49m\u001b[43mkey\u001b[49m\u001b[43m,\u001b[49m\u001b[43m \u001b[49m\u001b[43mtakeable\u001b[49m\u001b[38;5;241;43m=\u001b[39;49m\u001b[38;5;28;43mself\u001b[39;49m\u001b[38;5;241;43m.\u001b[39;49m\u001b[43m_takeable\u001b[49m\u001b[43m)\u001b[49m\n\u001b[0;32m   1184\u001b[0m     \u001b[38;5;28;01mreturn\u001b[39;00m \u001b[38;5;28mself\u001b[39m\u001b[38;5;241m.\u001b[39m_getitem_tuple(key)\n\u001b[0;32m   1185\u001b[0m \u001b[38;5;28;01melse\u001b[39;00m:\n\u001b[0;32m   1186\u001b[0m     \u001b[38;5;66;03m# we by definition only have the 0th axis\u001b[39;00m\n",
      "File \u001b[1;32m~\\AppData\\Roaming\\Python\\Python312\\site-packages\\pandas\\core\\frame.py:4221\u001b[0m, in \u001b[0;36mDataFrame._get_value\u001b[1;34m(self, index, col, takeable)\u001b[0m\n\u001b[0;32m   4215\u001b[0m engine \u001b[38;5;241m=\u001b[39m \u001b[38;5;28mself\u001b[39m\u001b[38;5;241m.\u001b[39mindex\u001b[38;5;241m.\u001b[39m_engine\n\u001b[0;32m   4217\u001b[0m \u001b[38;5;28;01mif\u001b[39;00m \u001b[38;5;129;01mnot\u001b[39;00m \u001b[38;5;28misinstance\u001b[39m(\u001b[38;5;28mself\u001b[39m\u001b[38;5;241m.\u001b[39mindex, MultiIndex):\n\u001b[0;32m   4218\u001b[0m     \u001b[38;5;66;03m# CategoricalIndex: Trying to use the engine fastpath may give incorrect\u001b[39;00m\n\u001b[0;32m   4219\u001b[0m     \u001b[38;5;66;03m#  results if our categories are integers that dont match our codes\u001b[39;00m\n\u001b[0;32m   4220\u001b[0m     \u001b[38;5;66;03m# IntervalIndex: IntervalTree has no get_loc\u001b[39;00m\n\u001b[1;32m-> 4221\u001b[0m     row \u001b[38;5;241m=\u001b[39m \u001b[38;5;28;43mself\u001b[39;49m\u001b[38;5;241;43m.\u001b[39;49m\u001b[43mindex\u001b[49m\u001b[38;5;241;43m.\u001b[39;49m\u001b[43mget_loc\u001b[49m\u001b[43m(\u001b[49m\u001b[43mindex\u001b[49m\u001b[43m)\u001b[49m\n\u001b[0;32m   4222\u001b[0m     \u001b[38;5;28;01mreturn\u001b[39;00m series\u001b[38;5;241m.\u001b[39m_values[row]\n\u001b[0;32m   4224\u001b[0m \u001b[38;5;66;03m# For MultiIndex going through engine effectively restricts us to\u001b[39;00m\n\u001b[0;32m   4225\u001b[0m \u001b[38;5;66;03m#  same-length tuples; see test_get_set_value_no_partial_indexing\u001b[39;00m\n",
      "File \u001b[1;32m~\\AppData\\Roaming\\Python\\Python312\\site-packages\\pandas\\core\\indexes\\base.py:3812\u001b[0m, in \u001b[0;36mIndex.get_loc\u001b[1;34m(self, key)\u001b[0m\n\u001b[0;32m   3807\u001b[0m     \u001b[38;5;28;01mif\u001b[39;00m \u001b[38;5;28misinstance\u001b[39m(casted_key, \u001b[38;5;28mslice\u001b[39m) \u001b[38;5;129;01mor\u001b[39;00m (\n\u001b[0;32m   3808\u001b[0m         \u001b[38;5;28misinstance\u001b[39m(casted_key, abc\u001b[38;5;241m.\u001b[39mIterable)\n\u001b[0;32m   3809\u001b[0m         \u001b[38;5;129;01mand\u001b[39;00m \u001b[38;5;28many\u001b[39m(\u001b[38;5;28misinstance\u001b[39m(x, \u001b[38;5;28mslice\u001b[39m) \u001b[38;5;28;01mfor\u001b[39;00m x \u001b[38;5;129;01min\u001b[39;00m casted_key)\n\u001b[0;32m   3810\u001b[0m     ):\n\u001b[0;32m   3811\u001b[0m         \u001b[38;5;28;01mraise\u001b[39;00m InvalidIndexError(key)\n\u001b[1;32m-> 3812\u001b[0m     \u001b[38;5;28;01mraise\u001b[39;00m \u001b[38;5;167;01mKeyError\u001b[39;00m(key) \u001b[38;5;28;01mfrom\u001b[39;00m \u001b[38;5;21;01merr\u001b[39;00m\n\u001b[0;32m   3813\u001b[0m \u001b[38;5;28;01mexcept\u001b[39;00m \u001b[38;5;167;01mTypeError\u001b[39;00m:\n\u001b[0;32m   3814\u001b[0m     \u001b[38;5;66;03m# If we have a listlike key, _check_indexing_error will raise\u001b[39;00m\n\u001b[0;32m   3815\u001b[0m     \u001b[38;5;66;03m#  InvalidIndexError. Otherwise we fall through and re-raise\u001b[39;00m\n\u001b[0;32m   3816\u001b[0m     \u001b[38;5;66;03m#  the TypeError.\u001b[39;00m\n\u001b[0;32m   3817\u001b[0m     \u001b[38;5;28mself\u001b[39m\u001b[38;5;241m.\u001b[39m_check_indexing_error(key)\n",
      "\u001b[1;31mKeyError\u001b[0m: 60.0"
     ]
    }
   ],
   "source": [
    "tf = 2*24 #horas\n",
    "time_step = 60 #secs\n",
    "time_vector = np.linspace(0,60*60*tf,endpoint=False,num=60*60*tf//time_step)\n",
    "\n",
    "\n",
    "def compute_aceleration_vector(body_position,body_mass,list_other_bodies_positions,list_other_bodies_masses):\n",
    "    G = 6.67*10**(-11) # Nm2/kg2\n",
    "\n",
    "    force_vector = np.zeros(3)\n",
    "\n",
    "    for other_body_position,other_body_mass in zip(list_other_bodies_positions,list_other_bodies_masses):\n",
    "        vector_r = other_body_position-body_position\n",
    "        force_vector += G*body_mass*other_body_mass/np.abs(np.sum(vector_r**3))*vector_r\n",
    "\n",
    "    aceleration = force_vector/body_mass\n",
    "    \n",
    "    return aceleration\n",
    "\n",
    "dict_planets_history = {}\n",
    "for planet in planets_list:\n",
    "    df = pd.DataFrame(columns=[\"time\",\"position\",\"velocity\"])\n",
    "    df = df.set_index(\"time\")\n",
    "    df.loc[time_vector[0]] = {\n",
    "        \"position\":planet.initial_position,\n",
    "        \"velocity\":planet.initial_velocity,\n",
    "    }\n",
    "    dict_planets_history.update({planet.name:df})\n",
    "\n",
    "dict_planets_history\n",
    "for time in time_vector:\n",
    "    for planet in planets_list:\n",
    "        aceleration = compute_aceleration_vector(\n",
    "            body_position=dict_planets_history[planet.name].loc[time,\"position\"],\n",
    "            body_mass=planet.mass,\n",
    "            list_other_bodies_positions = [\n",
    "                other_planet_df.loc[time,\"position\"] \n",
    "                for other_planet_name,other_planet_df \n",
    "                in dict_planets_history.items() \n",
    "                if other_planet_name != planet.name\n",
    "            ],\n",
    "            list_other_bodies_masses = [\n",
    "               other_planet.mass for other_planet in planets_list if other_planet != planet\n",
    "            ],\n",
    "        )\n",
    "\n",
    "        velocity = dict_planets_history[planet.name].loc[time,\"velocity\"]\n",
    "        position = dict_planets_history[planet.name].loc[time,\"position\"]\n",
    "\n",
    "        new_velocity = velocity + time_step * aceleration\n",
    "        new_position = position + time_step * (new_velocity+velocity)/2\n",
    "\n",
    "        dict_planets_history[planet.name].loc[time+time_step] = {\n",
    "            \"position\":new_position,\n",
    "            \"velocity\":new_velocity,\n",
    "        }\n"
   ]
  },
  {
   "cell_type": "code",
   "execution_count": 21,
   "metadata": {},
   "outputs": [
    {
     "data": {
      "text/html": [
       "<div>\n",
       "<style scoped>\n",
       "    .dataframe tbody tr th:only-of-type {\n",
       "        vertical-align: middle;\n",
       "    }\n",
       "\n",
       "    .dataframe tbody tr th {\n",
       "        vertical-align: top;\n",
       "    }\n",
       "\n",
       "    .dataframe thead th {\n",
       "        text-align: right;\n",
       "    }\n",
       "</style>\n",
       "<table border=\"1\" class=\"dataframe\">\n",
       "  <thead>\n",
       "    <tr style=\"text-align: right;\">\n",
       "      <th></th>\n",
       "      <th>position</th>\n",
       "      <th>velocity</th>\n",
       "    </tr>\n",
       "    <tr>\n",
       "      <th>time</th>\n",
       "      <th></th>\n",
       "      <th></th>\n",
       "    </tr>\n",
       "  </thead>\n",
       "  <tbody>\n",
       "    <tr>\n",
       "      <th>0.0</th>\n",
       "      <td>[0, 0, 0]</td>\n",
       "      <td>[0, 0, 0]</td>\n",
       "    </tr>\n",
       "    <tr>\n",
       "      <th>60.0</th>\n",
       "      <td>[0.05820083102493076, 0.0, 0.0]</td>\n",
       "      <td>[0.0019400277008310254, 0.0, 0.0]</td>\n",
       "    </tr>\n",
       "    <tr>\n",
       "      <th>120.0</th>\n",
       "      <td>[0.232803325645673, 0.0, 0.0]</td>\n",
       "      <td>[0.0038800554531937155, 0.0, 0.0]</td>\n",
       "    </tr>\n",
       "    <tr>\n",
       "      <th>180.0</th>\n",
       "      <td>[0.5238074900460269, 0.0, 0.0]</td>\n",
       "      <td>[0.005820083360151415, 0.0, 0.0]</td>\n",
       "    </tr>\n",
       "    <tr>\n",
       "      <th>240.0</th>\n",
       "      <td>[0.9312133365935946, 0.0, 0.0]</td>\n",
       "      <td>[0.007760111524767509, 0.0, 0.0]</td>\n",
       "    </tr>\n",
       "    <tr>\n",
       "      <th>...</th>\n",
       "      <td>...</td>\n",
       "      <td>...</td>\n",
       "    </tr>\n",
       "    <tr>\n",
       "      <th>172560.0</th>\n",
       "      <td>[500602.6437640361, 0.0, 0.0]</td>\n",
       "      <td>[6.045299269121741, 0.0, 0.0]</td>\n",
       "    </tr>\n",
       "    <tr>\n",
       "      <th>172620.0</th>\n",
       "      <td>[500965.4359011374, 0.0, 0.0]</td>\n",
       "      <td>[6.047771967588957, 0.0, 0.0]</td>\n",
       "    </tr>\n",
       "    <tr>\n",
       "      <th>172680.0</th>\n",
       "      <td>[501328.3764140153, 0.0, 0.0]</td>\n",
       "      <td>[6.050245128339873, 0.0, 0.0]</td>\n",
       "    </tr>\n",
       "    <tr>\n",
       "      <th>172740.0</th>\n",
       "      <td>[501691.4653304163, 0.0, 0.0]</td>\n",
       "      <td>[6.052718751693285, 0.0, 0.0]</td>\n",
       "    </tr>\n",
       "    <tr>\n",
       "      <th>172800.0</th>\n",
       "      <td>[502054.70267810614, 0.0, 0.0]</td>\n",
       "      <td>[6.055192837968234, 0.0, 0.0]</td>\n",
       "    </tr>\n",
       "  </tbody>\n",
       "</table>\n",
       "<p>2881 rows × 2 columns</p>\n",
       "</div>"
      ],
      "text/plain": [
       "                                 position                           velocity\n",
       "time                                                                        \n",
       "0.0                             [0, 0, 0]                          [0, 0, 0]\n",
       "60.0      [0.05820083102493076, 0.0, 0.0]  [0.0019400277008310254, 0.0, 0.0]\n",
       "120.0       [0.232803325645673, 0.0, 0.0]  [0.0038800554531937155, 0.0, 0.0]\n",
       "180.0      [0.5238074900460269, 0.0, 0.0]   [0.005820083360151415, 0.0, 0.0]\n",
       "240.0      [0.9312133365935946, 0.0, 0.0]   [0.007760111524767509, 0.0, 0.0]\n",
       "...                                   ...                                ...\n",
       "172560.0    [500602.6437640361, 0.0, 0.0]      [6.045299269121741, 0.0, 0.0]\n",
       "172620.0    [500965.4359011374, 0.0, 0.0]      [6.047771967588957, 0.0, 0.0]\n",
       "172680.0    [501328.3764140153, 0.0, 0.0]      [6.050245128339873, 0.0, 0.0]\n",
       "172740.0    [501691.4653304163, 0.0, 0.0]      [6.052718751693285, 0.0, 0.0]\n",
       "172800.0   [502054.70267810614, 0.0, 0.0]      [6.055192837968234, 0.0, 0.0]\n",
       "\n",
       "[2881 rows x 2 columns]"
      ]
     },
     "execution_count": 21,
     "metadata": {},
     "output_type": "execute_result"
    }
   ],
   "source": [
    "dict_planets_history[\"Terra\"]"
   ]
  },
  {
   "cell_type": "code",
   "execution_count": null,
   "metadata": {},
   "outputs": [],
   "source": []
  },
  {
   "cell_type": "code",
   "execution_count": 14,
   "metadata": {},
   "outputs": [
    {
     "data": {
      "application/vnd.jupyter.widget-view+json": {
       "model_id": "f7db033695d941a1affcc8c699166b60",
       "version_major": 2,
       "version_minor": 0
      },
      "text/plain": [
       "Widget(value='<iframe src=\"http://localhost:63634/index.html?ui=P_0x1bc86fb74a0_3&reconnect=auto\" class=\"pyvis…"
      ]
     },
     "metadata": {},
     "output_type": "display_data"
    }
   ],
   "source": [
    "raio_terra = 6370 #km\n",
    "raio_lua = 1735 #km\n",
    "\n",
    "mesh_terra = pv.Sphere(radius=raio_terra,)\n",
    "mesh_lua = pv.Sphere(radius=raio_lua,center=lua.initial_position)\n",
    "\n",
    "cena = pv.Plotter()\n",
    "\n",
    "cena.add_mesh(mesh_terra)\n",
    "cena.add_mesh(mesh_lua)\n",
    "\n",
    "cena.show()"
   ]
  }
 ],
 "metadata": {
  "kernelspec": {
   "display_name": "Python 3",
   "language": "python",
   "name": "python3"
  },
  "language_info": {
   "codemirror_mode": {
    "name": "ipython",
    "version": 3
   },
   "file_extension": ".py",
   "mimetype": "text/x-python",
   "name": "python",
   "nbconvert_exporter": "python",
   "pygments_lexer": "ipython3",
   "version": "3.12.3"
  }
 },
 "nbformat": 4,
 "nbformat_minor": 2
}
